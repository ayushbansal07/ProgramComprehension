{
 "cells": [
  {
   "cell_type": "code",
   "execution_count": 1,
   "metadata": {
    "collapsed": true
   },
   "outputs": [],
   "source": [
    "import pandas as pd\n",
    "import numpy as np\n",
    "from sklearn.cluster import KMeans"
   ]
  },
  {
   "cell_type": "code",
   "execution_count": 2,
   "metadata": {
    "collapsed": true
   },
   "outputs": [],
   "source": [
    "DATA_DIR = \"data/\""
   ]
  },
  {
   "cell_type": "code",
   "execution_count": 3,
   "metadata": {
    "collapsed": true
   },
   "outputs": [],
   "source": [
    "data = pd.read_excel(DATA_DIR+\"Database_matrix_modified.xlsx\",header=[0,1,2,3,4])"
   ]
  },
  {
   "cell_type": "code",
   "execution_count": 4,
   "metadata": {},
   "outputs": [
    {
     "data": {
      "text/html": [
       "<div>\n",
       "<style>\n",
       "    .dataframe thead tr:only-child th {\n",
       "        text-align: right;\n",
       "    }\n",
       "\n",
       "    .dataframe thead th {\n",
       "        text-align: left;\n",
       "    }\n",
       "\n",
       "    .dataframe tbody tr th {\n",
       "        vertical-align: top;\n",
       "    }\n",
       "</style>\n",
       "<table border=\"1\" class=\"dataframe\">\n",
       "  <thead>\n",
       "    <tr>\n",
       "      <th>Subject id</th>\n",
       "      <th>Age</th>\n",
       "      <th>Gender</th>\n",
       "      <th>Marks in 10th</th>\n",
       "      <th>Marks in 12th</th>\n",
       "      <th>JEE Rank</th>\n",
       "      <th>CGPA</th>\n",
       "      <th>Marks in PDS theory</th>\n",
       "      <th>Marks in PDS lab</th>\n",
       "      <th colspan=\"2\" halign=\"left\">Game</th>\n",
       "      <th>...</th>\n",
       "      <th colspan=\"10\" halign=\"left\">Code</th>\n",
       "    </tr>\n",
       "    <tr>\n",
       "      <th></th>\n",
       "      <th>Unnamed: 0_level_1</th>\n",
       "      <th>Unnamed: 1_level_1</th>\n",
       "      <th>Unnamed: 2_level_1</th>\n",
       "      <th>Unnamed: 3_level_1</th>\n",
       "      <th>Unnamed: 4_level_1</th>\n",
       "      <th>Unnamed: 5_level_1</th>\n",
       "      <th>Unnamed: 6_level_1</th>\n",
       "      <th>Unnamed: 7_level_1</th>\n",
       "      <th colspan=\"2\" halign=\"left\">Selective Attention</th>\n",
       "      <th>...</th>\n",
       "      <th colspan=\"3\" halign=\"left\">Long Code Normal</th>\n",
       "      <th colspan=\"7\" halign=\"left\">Long Code Error</th>\n",
       "    </tr>\n",
       "    <tr>\n",
       "      <th></th>\n",
       "      <th>Unnamed: 0_level_2</th>\n",
       "      <th>Unnamed: 1_level_2</th>\n",
       "      <th>Unnamed: 2_level_2</th>\n",
       "      <th>Unnamed: 3_level_2</th>\n",
       "      <th>Unnamed: 4_level_2</th>\n",
       "      <th>Unnamed: 5_level_2</th>\n",
       "      <th>Unnamed: 6_level_2</th>\n",
       "      <th>Unnamed: 7_level_2</th>\n",
       "      <th colspan=\"2\" halign=\"left\">Count letters</th>\n",
       "      <th>...</th>\n",
       "      <th>LOC</th>\n",
       "      <th>Cyclomatic Complexity</th>\n",
       "      <th>Time</th>\n",
       "      <th>Code #</th>\n",
       "      <th>Number of questions</th>\n",
       "      <th>Score</th>\n",
       "      <th>Error Identified</th>\n",
       "      <th>LOC</th>\n",
       "      <th>Cyclomatic Complexity</th>\n",
       "      <th>Time</th>\n",
       "    </tr>\n",
       "    <tr>\n",
       "      <th></th>\n",
       "      <th>Unnamed: 0_level_3</th>\n",
       "      <th>Unnamed: 1_level_3</th>\n",
       "      <th>Unnamed: 2_level_3</th>\n",
       "      <th>Unnamed: 3_level_3</th>\n",
       "      <th>Unnamed: 4_level_3</th>\n",
       "      <th>Unnamed: 5_level_3</th>\n",
       "      <th>Unnamed: 6_level_3</th>\n",
       "      <th>Unnamed: 7_level_3</th>\n",
       "      <th>score</th>\n",
       "      <th>time(s)</th>\n",
       "      <th>...</th>\n",
       "      <th>Unnamed: 37_level_3</th>\n",
       "      <th>Unnamed: 38_level_3</th>\n",
       "      <th>Unnamed: 39_level_3</th>\n",
       "      <th>Unnamed: 40_level_3</th>\n",
       "      <th>Unnamed: 41_level_3</th>\n",
       "      <th>Unnamed: 42_level_3</th>\n",
       "      <th>Unnamed: 43_level_3</th>\n",
       "      <th>Unnamed: 44_level_3</th>\n",
       "      <th>Unnamed: 45_level_3</th>\n",
       "      <th>Unnamed: 46_level_3</th>\n",
       "    </tr>\n",
       "    <tr>\n",
       "      <th></th>\n",
       "      <th>Unnamed: 0_level_4</th>\n",
       "      <th>Unnamed: 1_level_4</th>\n",
       "      <th>Unnamed: 2_level_4</th>\n",
       "      <th>Unnamed: 3_level_4</th>\n",
       "      <th>Unnamed: 4_level_4</th>\n",
       "      <th>Unnamed: 5_level_4</th>\n",
       "      <th>Unnamed: 6_level_4</th>\n",
       "      <th>Unnamed: 7_level_4</th>\n",
       "      <th>Unnamed: 8_level_4</th>\n",
       "      <th>Unnamed: 9_level_4</th>\n",
       "      <th>...</th>\n",
       "      <th>Unnamed: 37_level_4</th>\n",
       "      <th>Unnamed: 38_level_4</th>\n",
       "      <th>Unnamed: 39_level_4</th>\n",
       "      <th>Unnamed: 40_level_4</th>\n",
       "      <th>Unnamed: 41_level_4</th>\n",
       "      <th>Unnamed: 42_level_4</th>\n",
       "      <th>Unnamed: 43_level_4</th>\n",
       "      <th>Unnamed: 44_level_4</th>\n",
       "      <th>Unnamed: 45_level_4</th>\n",
       "      <th>Unnamed: 46_level_4</th>\n",
       "    </tr>\n",
       "  </thead>\n",
       "  <tbody>\n",
       "    <tr>\n",
       "      <th>S1</th>\n",
       "      <td>19.0</td>\n",
       "      <td>M</td>\n",
       "      <td>NaN</td>\n",
       "      <td>NaN</td>\n",
       "      <td>NaN</td>\n",
       "      <td>7</td>\n",
       "      <td>B</td>\n",
       "      <td>B</td>\n",
       "      <td>0.0</td>\n",
       "      <td>28.7</td>\n",
       "      <td>...</td>\n",
       "      <td>39.0</td>\n",
       "      <td>7.0</td>\n",
       "      <td>4.47</td>\n",
       "      <td>37.0</td>\n",
       "      <td>2.0</td>\n",
       "      <td>2.0</td>\n",
       "      <td>y</td>\n",
       "      <td>61.0</td>\n",
       "      <td>2.0</td>\n",
       "      <td>16.06</td>\n",
       "    </tr>\n",
       "    <tr>\n",
       "      <th>NaN</th>\n",
       "      <td>NaN</td>\n",
       "      <td>NaN</td>\n",
       "      <td>NaN</td>\n",
       "      <td>NaN</td>\n",
       "      <td>NaN</td>\n",
       "      <td>NaN</td>\n",
       "      <td>NaN</td>\n",
       "      <td>NaN</td>\n",
       "      <td>NaN</td>\n",
       "      <td>NaN</td>\n",
       "      <td>...</td>\n",
       "      <td>43.0</td>\n",
       "      <td>3.0</td>\n",
       "      <td>4.51</td>\n",
       "      <td>NaN</td>\n",
       "      <td>NaN</td>\n",
       "      <td>NaN</td>\n",
       "      <td>NaN</td>\n",
       "      <td>NaN</td>\n",
       "      <td>NaN</td>\n",
       "      <td>NaN</td>\n",
       "    </tr>\n",
       "    <tr>\n",
       "      <th>S2</th>\n",
       "      <td>20.0</td>\n",
       "      <td>M</td>\n",
       "      <td>9.8</td>\n",
       "      <td>87.8</td>\n",
       "      <td>1545.0</td>\n",
       "      <td>8.03</td>\n",
       "      <td>A</td>\n",
       "      <td>A</td>\n",
       "      <td>0.0</td>\n",
       "      <td>50.0</td>\n",
       "      <td>...</td>\n",
       "      <td>43.0</td>\n",
       "      <td>3.0</td>\n",
       "      <td>4.36</td>\n",
       "      <td>17.0</td>\n",
       "      <td>4.0</td>\n",
       "      <td>4.0</td>\n",
       "      <td>n</td>\n",
       "      <td>65.0</td>\n",
       "      <td>2.0</td>\n",
       "      <td>15.03</td>\n",
       "    </tr>\n",
       "    <tr>\n",
       "      <th>NaN</th>\n",
       "      <td>NaN</td>\n",
       "      <td>NaN</td>\n",
       "      <td>NaN</td>\n",
       "      <td>NaN</td>\n",
       "      <td>NaN</td>\n",
       "      <td>NaN</td>\n",
       "      <td>NaN</td>\n",
       "      <td>NaN</td>\n",
       "      <td>NaN</td>\n",
       "      <td>NaN</td>\n",
       "      <td>...</td>\n",
       "      <td>NaN</td>\n",
       "      <td>NaN</td>\n",
       "      <td>NaN</td>\n",
       "      <td>34.0</td>\n",
       "      <td>4.0</td>\n",
       "      <td>1.0</td>\n",
       "      <td>n</td>\n",
       "      <td>51.0</td>\n",
       "      <td>5.0</td>\n",
       "      <td>10.26</td>\n",
       "    </tr>\n",
       "    <tr>\n",
       "      <th>S3</th>\n",
       "      <td>21.0</td>\n",
       "      <td>M</td>\n",
       "      <td>10.0</td>\n",
       "      <td>93.4</td>\n",
       "      <td>436.0</td>\n",
       "      <td>8.7</td>\n",
       "      <td>A</td>\n",
       "      <td>A</td>\n",
       "      <td>5.0</td>\n",
       "      <td>47.8</td>\n",
       "      <td>...</td>\n",
       "      <td>51.0</td>\n",
       "      <td>2.0</td>\n",
       "      <td>5.57</td>\n",
       "      <td>34.0</td>\n",
       "      <td>4.0</td>\n",
       "      <td>1.0</td>\n",
       "      <td>y</td>\n",
       "      <td>51.0</td>\n",
       "      <td>5.0</td>\n",
       "      <td>8.07</td>\n",
       "    </tr>\n",
       "  </tbody>\n",
       "</table>\n",
       "<p>5 rows × 47 columns</p>\n",
       "</div>"
      ],
      "text/plain": [
       "Subject id                 Age             Gender     Marks in 10th   \\\n",
       "            Unnamed: 0_level_1 Unnamed: 1_level_1 Unnamed: 2_level_1   \n",
       "            Unnamed: 0_level_2 Unnamed: 1_level_2 Unnamed: 2_level_2   \n",
       "            Unnamed: 0_level_3 Unnamed: 1_level_3 Unnamed: 2_level_3   \n",
       "            Unnamed: 0_level_4 Unnamed: 1_level_4 Unnamed: 2_level_4   \n",
       "S1                        19.0                  M                NaN   \n",
       "NaN                        NaN                NaN                NaN   \n",
       "S2                        20.0                  M                9.8   \n",
       "NaN                        NaN                NaN                NaN   \n",
       "S3                        21.0                  M               10.0   \n",
       "\n",
       "Subject id      Marks in 12th            JEE Rank               CGPA  \\\n",
       "            Unnamed: 3_level_1 Unnamed: 4_level_1 Unnamed: 5_level_1   \n",
       "            Unnamed: 3_level_2 Unnamed: 4_level_2 Unnamed: 5_level_2   \n",
       "            Unnamed: 3_level_3 Unnamed: 4_level_3 Unnamed: 5_level_3   \n",
       "            Unnamed: 3_level_4 Unnamed: 4_level_4 Unnamed: 5_level_4   \n",
       "S1                         NaN                NaN                  7   \n",
       "NaN                        NaN                NaN                NaN   \n",
       "S2                        87.8             1545.0               8.03   \n",
       "NaN                        NaN                NaN                NaN   \n",
       "S3                        93.4              436.0                8.7   \n",
       "\n",
       "Subject id  Marks in PDS theory   Marks in PDS lab                Game  \\\n",
       "             Unnamed: 6_level_1 Unnamed: 7_level_1 Selective Attention   \n",
       "             Unnamed: 6_level_2 Unnamed: 7_level_2       Count letters   \n",
       "             Unnamed: 6_level_3 Unnamed: 7_level_3               score   \n",
       "             Unnamed: 6_level_4 Unnamed: 7_level_4  Unnamed: 8_level_4   \n",
       "S1                            B                  B                 0.0   \n",
       "NaN                         NaN                NaN                 NaN   \n",
       "S2                            A                  A                 0.0   \n",
       "NaN                         NaN                NaN                 NaN   \n",
       "S3                            A                  A                 5.0   \n",
       "\n",
       "Subject id                             ...                        Code  \\\n",
       "                                       ...            Long Code Normal   \n",
       "                                       ...                         LOC   \n",
       "                       time(s)         ...         Unnamed: 37_level_3   \n",
       "            Unnamed: 9_level_4         ...         Unnamed: 37_level_4   \n",
       "S1                        28.7         ...                        39.0   \n",
       "NaN                        NaN         ...                        43.0   \n",
       "S2                        50.0         ...                        43.0   \n",
       "NaN                        NaN         ...                         NaN   \n",
       "S3                        47.8         ...                        51.0   \n",
       "\n",
       "Subject id                                                                 \\\n",
       "                                                          Long Code Error   \n",
       "            Cyclomatic Complexity                Time              Code #   \n",
       "              Unnamed: 38_level_3 Unnamed: 39_level_3 Unnamed: 40_level_3   \n",
       "              Unnamed: 38_level_4 Unnamed: 39_level_4 Unnamed: 40_level_4   \n",
       "S1                            7.0                4.47                37.0   \n",
       "NaN                           3.0                4.51                 NaN   \n",
       "S2                            3.0                4.36                17.0   \n",
       "NaN                           NaN                 NaN                34.0   \n",
       "S3                            2.0                5.57                34.0   \n",
       "\n",
       "Subject id                                                               \\\n",
       "                                                                          \n",
       "            Number of questions               Score    Error Identified   \n",
       "            Unnamed: 41_level_3 Unnamed: 42_level_3 Unnamed: 43_level_3   \n",
       "            Unnamed: 41_level_4 Unnamed: 42_level_4 Unnamed: 43_level_4   \n",
       "S1                          2.0                 2.0                   y   \n",
       "NaN                         NaN                 NaN                 NaN   \n",
       "S2                          4.0                 4.0                   n   \n",
       "NaN                         4.0                 1.0                   n   \n",
       "S3                          4.0                 1.0                   y   \n",
       "\n",
       "Subject id                                                                 \n",
       "                                                                           \n",
       "                            LOC Cyclomatic Complexity                Time  \n",
       "            Unnamed: 44_level_3   Unnamed: 45_level_3 Unnamed: 46_level_3  \n",
       "            Unnamed: 44_level_4   Unnamed: 45_level_4 Unnamed: 46_level_4  \n",
       "S1                         61.0                   2.0               16.06  \n",
       "NaN                         NaN                   NaN                 NaN  \n",
       "S2                         65.0                   2.0               15.03  \n",
       "NaN                        51.0                   5.0               10.26  \n",
       "S3                         51.0                   5.0                8.07  \n",
       "\n",
       "[5 rows x 47 columns]"
      ]
     },
     "execution_count": 4,
     "metadata": {},
     "output_type": "execute_result"
    }
   ],
   "source": [
    "data.head()"
   ]
  },
  {
   "cell_type": "code",
   "execution_count": 5,
   "metadata": {
    "collapsed": true
   },
   "outputs": [],
   "source": [
    "data = np.array(data)"
   ]
  },
  {
   "cell_type": "code",
   "execution_count": 6,
   "metadata": {},
   "outputs": [
    {
     "data": {
      "text/plain": [
       "array([19.0, 'M', nan, nan, nan, 7, 'B', 'B', 0.0, 28.7, 0.0, 37.4, 24.0,\n",
       "       45.0, 20.0, 30.0, 10.0, 18.0, 0.0, 20.0, 0.0, 5.0, 0.0, 4.0, 0.0,\n",
       "       3.0, 0.0, 3.0, 5.0, 4.0, 2.0, 21.0, 4.0, 1.23, 10.0, 4.0, 2.0,\n",
       "       39.0, 7.0, 4.47, 37.0, 2.0, 2.0, 'y', 61.0, 2.0, 16.06],\n",
       "      dtype=object)"
      ]
     },
     "execution_count": 6,
     "metadata": {},
     "output_type": "execute_result"
    }
   ],
   "source": [
    "data[0]"
   ]
  },
  {
   "cell_type": "code",
   "execution_count": 7,
   "metadata": {
    "collapsed": true
   },
   "outputs": [],
   "source": [
    "game_features = data[:,8:28]\n",
    "cols_list = [0,29,30,31,32,33,35,36,\\\n",
    "                 37,38,39,41,42,43,44,45,46]\n",
    "code_features = data[:,cols_list]"
   ]
  },
  {
   "cell_type": "code",
   "execution_count": 8,
   "metadata": {},
   "outputs": [
    {
     "data": {
      "text/plain": [
       "array([[19.0, 4.0, 2.0, 21.0, 4.0, 1.23, 4.0, 2.0, 39.0, 7.0, 4.47, 2.0,\n",
       "        2.0, 'y', 61.0, 2.0, 16.06],\n",
       "       [nan, 2.0, 2.0, 17.0, 2.0, 4.54, 4.0, 2.0, 43.0, 3.0, 4.51, nan,\n",
       "        nan, nan, nan, nan, nan]], dtype=object)"
      ]
     },
     "execution_count": 8,
     "metadata": {},
     "output_type": "execute_result"
    }
   ],
   "source": [
    "code_features[0:2]"
   ]
  },
  {
   "cell_type": "code",
   "execution_count": 9,
   "metadata": {
    "collapsed": true
   },
   "outputs": [],
   "source": [
    "def get_game_features(data):\n",
    "    X_game = []\n",
    "    for r in data:\n",
    "        if not r[0] != r[0]:\n",
    "            X_game.append(r)\n",
    "    return np.array(X_game,dtype=np.float64)"
   ]
  },
  {
   "cell_type": "code",
   "execution_count": 10,
   "metadata": {
    "collapsed": true
   },
   "outputs": [],
   "source": [
    "def clean_code_features(data):\n",
    "    for r in data:\n",
    "        time_indices = [5, 10, 16]\n",
    "        for j in time_indices:\n",
    "            if r[j] != r[j]:\n",
    "                continue\n",
    "            if 'sec' in str(r[j]):\n",
    "                r[j] = str(r[j])[:-3]\n",
    "            else:\n",
    "                mi = int(r[j])\n",
    "                sec = int((float(r[j])-mi)*100)\n",
    "                r[j] = mi*60+sec\n",
    "    return data\n",
    "def get_code_features(data):\n",
    "    data = clean_code_features(data)\n",
    "    X_code = []\n",
    "    ques_num = 0\n",
    "    for r in data:\n",
    "        if not r[0] != r[0]:\n",
    "            ques_num = 0\n",
    "            X_code.append(np.zeros(5*6))\n",
    "        if not r[1] != r[1]:\n",
    "            X_code[len(X_code)-1][ques_num*6:ques_num*6+5] = r[1:6]\n",
    "            ques_num += 1\n",
    "        if not r[6] != r[6]:\n",
    "            X_code[len(X_code)-1][ques_num*6:ques_num*6+5] = r[6:11]\n",
    "            ques_num += 1\n",
    "        if not r[11] != r[11]:\n",
    "            X_code[len(X_code)-1][ques_num*6:ques_num*6+2] = r[11:13]\n",
    "            X_code[len(X_code)-1][ques_num*6+2:ques_num*6+5] = r[14:17]\n",
    "            if r[13]=='y':\n",
    "                X_code[len(X_code)-1][ques_num*6+5] = 1\n",
    "            ques_num += 1\n",
    "    return np.array(X_code)"
   ]
  },
  {
   "cell_type": "code",
   "execution_count": 11,
   "metadata": {
    "collapsed": true
   },
   "outputs": [],
   "source": [
    "X_code = get_code_features(code_features)"
   ]
  },
  {
   "cell_type": "code",
   "execution_count": 12,
   "metadata": {},
   "outputs": [
    {
     "data": {
      "text/plain": [
       "'\\nfor r in data:\\n    if not r[0] != r[0]:\\n        X_data.append(r)\\nX_data = np.array(X_data,dtype=np.float64)\\n'"
      ]
     },
     "execution_count": 12,
     "metadata": {},
     "output_type": "execute_result"
    }
   ],
   "source": [
    "X_game = get_game_features(game_features)\n",
    "'''\n",
    "for r in data:\n",
    "    if not r[0] != r[0]:\n",
    "        X_data.append(r)\n",
    "X_data = np.array(X_data,dtype=np.float64)\n",
    "'''"
   ]
  },
  {
   "cell_type": "code",
   "execution_count": 13,
   "metadata": {
    "collapsed": true
   },
   "outputs": [],
   "source": [
    "X_game = np.delete(X_game,[5,7],axis=1)\n",
    "X_game_mean = np.mean(X_game,axis=0)\n",
    "X_game_std = np.std(X_game,axis=0)\n",
    "X_game = (X_game - X_game_mean)/X_game_std"
   ]
  },
  {
   "cell_type": "code",
   "execution_count": 14,
   "metadata": {},
   "outputs": [
    {
     "data": {
      "text/plain": [
       "array([ 2.13437475, 29.63262606,  1.67610496, 30.40746041,  9.92191738,\n",
       "        9.3432487 ,  2.61321166,  8.88472684,  3.70708179,  7.97291712,\n",
       "       10.42904384,  0.86463834,  5.2111246 ,  0.8640432 ,  6.93690455,\n",
       "        1.09697802,  5.22165777,  0.77357772])"
      ]
     },
     "execution_count": 14,
     "metadata": {},
     "output_type": "execute_result"
    }
   ],
   "source": [
    "X_game_std"
   ]
  },
  {
   "cell_type": "code",
   "execution_count": 15,
   "metadata": {
    "collapsed": true
   },
   "outputs": [],
   "source": [
    "X_code = np.delete(X_code,[5,11],axis=1)\n",
    "X_code_mean = np.mean(X_code,axis=0)\n",
    "X_code_std = np.std(X_code,axis=0)\n",
    "X_code = (X_code - X_code_mean)/X_code_std"
   ]
  },
  {
   "cell_type": "code",
   "execution_count": 16,
   "metadata": {},
   "outputs": [
    {
     "data": {
      "text/plain": [
       "array([1.31729031e+00, 1.25707872e+00, 6.36239811e+00, 7.87635938e-01,\n",
       "       1.52833051e+02, 9.19421599e-01, 1.30591668e+00, 1.83190086e+01,\n",
       "       5.18134779e+00, 1.73160912e+02, 9.42809042e-01, 1.04313682e+00,\n",
       "       1.47990194e+01, 1.41336459e+00, 3.51847329e+02, 4.91351821e-01,\n",
       "       1.09572683e+00, 1.15722221e+00, 2.89164695e+01, 2.17235720e+00,\n",
       "       2.28820378e+02, 1.34816850e-01, 1.45673781e+00, 1.12887042e+00,\n",
       "       2.22932199e+01, 1.20085132e+00, 2.18946483e+02, 4.56623259e-01])"
      ]
     },
     "execution_count": 16,
     "metadata": {},
     "output_type": "execute_result"
    }
   ],
   "source": [
    "X_code_std"
   ]
  },
  {
   "cell_type": "code",
   "execution_count": 17,
   "metadata": {
    "collapsed": true
   },
   "outputs": [],
   "source": [
    "def train_model(data,num_clusters=3,max_iter=1000):\n",
    "    model = KMeans(num_clusters,max_iter=max_iter).fit(data)\n",
    "    return model"
   ]
  },
  {
   "cell_type": "code",
   "execution_count": 18,
   "metadata": {
    "collapsed": true
   },
   "outputs": [],
   "source": [
    "NUM_CLUSTERS = 3"
   ]
  },
  {
   "cell_type": "code",
   "execution_count": 19,
   "metadata": {
    "collapsed": true
   },
   "outputs": [],
   "source": [
    "model_game = train_model(X_game,NUM_CLUSTERS,max_iter=1000)"
   ]
  },
  {
   "cell_type": "code",
   "execution_count": 20,
   "metadata": {},
   "outputs": [
    {
     "data": {
      "text/plain": [
       "array([0, 2, 1, 1, 1, 2, 0, 2, 2, 1, 2, 1, 0, 0, 0, 1, 0, 2, 1, 1, 1, 2,\n",
       "       2, 2, 2, 2, 1, 2, 1, 2, 1, 1, 2, 2, 1, 1, 2, 1, 2, 2, 1, 1, 2, 2,\n",
       "       2, 1, 2, 1, 1, 2, 1, 0, 1, 1], dtype=int32)"
      ]
     },
     "execution_count": 20,
     "metadata": {},
     "output_type": "execute_result"
    }
   ],
   "source": [
    "model_game.labels_"
   ]
  },
  {
   "cell_type": "code",
   "execution_count": 21,
   "metadata": {
    "collapsed": true
   },
   "outputs": [],
   "source": [
    "lbls = [(i+1,x) for i,x in enumerate(model_game.labels_)]"
   ]
  },
  {
   "cell_type": "code",
   "execution_count": null,
   "metadata": {},
   "outputs": [],
   "source": []
  },
  {
   "cell_type": "code",
   "execution_count": null,
   "metadata": {},
   "outputs": [],
   "source": []
  },
  {
   "cell_type": "code",
   "execution_count": 34,
   "metadata": {
    "collapsed": true
   },
   "outputs": [],
   "source": [
    "clusters_map = {0:[], 1:[], 2:[]}"
   ]
  },
  {
   "cell_type": "code",
   "execution_count": 23,
   "metadata": {
    "collapsed": true
   },
   "outputs": [],
   "source": [
    "for lbl in lbls:\n",
    "    clusters_map[lbl[1]].append(\"S\"+str(lbl[0]))"
   ]
  },
  {
   "cell_type": "code",
   "execution_count": 24,
   "metadata": {},
   "outputs": [
    {
     "name": "stdout",
     "output_type": "stream",
     "text": [
      "{0: ['S1', 'S7', 'S13', 'S14', 'S15', 'S17', 'S52'], 1: ['S3', 'S4', 'S5', 'S10', 'S12', 'S16', 'S19', 'S20', 'S21', 'S27', 'S29', 'S31', 'S32', 'S35', 'S36', 'S38', 'S41', 'S42', 'S46', 'S48', 'S49', 'S51', 'S53', 'S54'], 2: ['S2', 'S6', 'S8', 'S9', 'S11', 'S18', 'S22', 'S23', 'S24', 'S25', 'S26', 'S28', 'S30', 'S33', 'S34', 'S37', 'S39', 'S40', 'S43', 'S44', 'S45', 'S47', 'S50']}\n"
     ]
    }
   ],
   "source": [
    "print(clusters_map)"
   ]
  },
  {
   "cell_type": "code",
   "execution_count": 35,
   "metadata": {
    "collapsed": true
   },
   "outputs": [],
   "source": [
    "model_code = train_model(X_code,NUM_CLUSTERS,max_iter=1000)"
   ]
  },
  {
   "cell_type": "code",
   "execution_count": 36,
   "metadata": {},
   "outputs": [
    {
     "data": {
      "text/plain": [
       "array([2, 2, 0, 0, 0, 0, 0, 2, 0, 0, 2, 0, 0, 0, 2, 2, 0, 2, 2, 2, 2, 0,\n",
       "       2, 2, 2, 2, 2, 0, 1, 1, 1, 1, 1, 1, 1, 1, 1, 1, 1, 1, 1, 1, 2, 2,\n",
       "       2, 1, 2, 2, 1, 1, 1, 1, 1, 1], dtype=int32)"
      ]
     },
     "execution_count": 36,
     "metadata": {},
     "output_type": "execute_result"
    }
   ],
   "source": [
    "model_code.labels_"
   ]
  },
  {
   "cell_type": "code",
   "execution_count": 37,
   "metadata": {},
   "outputs": [
    {
     "data": {
      "text/plain": [
       "{0: ['S3',\n",
       "  'S4',\n",
       "  'S5',\n",
       "  'S6',\n",
       "  'S7',\n",
       "  'S9',\n",
       "  'S10',\n",
       "  'S12',\n",
       "  'S13',\n",
       "  'S14',\n",
       "  'S17',\n",
       "  'S22',\n",
       "  'S28'],\n",
       " 1: ['S29',\n",
       "  'S30',\n",
       "  'S31',\n",
       "  'S32',\n",
       "  'S33',\n",
       "  'S34',\n",
       "  'S35',\n",
       "  'S36',\n",
       "  'S37',\n",
       "  'S38',\n",
       "  'S39',\n",
       "  'S40',\n",
       "  'S41',\n",
       "  'S42',\n",
       "  'S46',\n",
       "  'S49',\n",
       "  'S50',\n",
       "  'S51',\n",
       "  'S52',\n",
       "  'S53',\n",
       "  'S54'],\n",
       " 2: ['S1',\n",
       "  'S2',\n",
       "  'S8',\n",
       "  'S11',\n",
       "  'S15',\n",
       "  'S16',\n",
       "  'S18',\n",
       "  'S19',\n",
       "  'S20',\n",
       "  'S21',\n",
       "  'S23',\n",
       "  'S24',\n",
       "  'S25',\n",
       "  'S26',\n",
       "  'S27',\n",
       "  'S43',\n",
       "  'S44',\n",
       "  'S45',\n",
       "  'S47',\n",
       "  'S48']}"
      ]
     },
     "execution_count": 37,
     "metadata": {},
     "output_type": "execute_result"
    }
   ],
   "source": [
    "lbls2 = [(i+1,x) for i,x in enumerate(model_code.labels_)]\n",
    "for lbl in lbls2:\n",
    "    clusters_map[lbl[1]].append(\"S\"+str(lbl[0]))\n",
    "clusters_map"
   ]
  },
  {
   "cell_type": "code",
   "execution_count": 28,
   "metadata": {},
   "outputs": [
    {
     "data": {
      "text/plain": [
       "array([[2.33333333e+00, 1.66666667e+00, 1.76666667e+01, 2.33333333e+00,\n",
       "        4.35166667e+02, 3.83333333e+00, 1.33333333e+00, 5.90000000e+01,\n",
       "        4.66666667e+00, 3.63500000e+02, 2.16666667e+00, 1.16666667e+00,\n",
       "        5.00000000e+01, 4.00000000e+00, 4.59666667e+02, 3.33333333e-01,\n",
       "        3.00000000e+00, 2.33333333e+00, 9.45000000e+01, 3.33333333e+00,\n",
       "        6.68833333e+02, 0.00000000e+00, 4.16666667e+00, 3.16666667e+00,\n",
       "        6.86666667e+01, 3.50000000e+00, 3.98333333e+02, 3.33333333e-01],\n",
       "       [3.05882353e+00, 2.41176471e+00, 2.52352941e+01, 3.05882353e+00,\n",
       "        1.54588235e+02, 5.17647059e+00, 3.64705882e+00, 6.16470588e+01,\n",
       "        4.23529412e+00, 3.61823529e+02, 3.52941176e+00, 2.52941176e+00,\n",
       "        6.31176471e+01, 3.58823529e+00, 4.57176471e+02, 5.29411765e-01,\n",
       "        4.05882353e+00, 2.88235294e+00, 6.67647059e+01, 3.29411765e+00,\n",
       "        3.40058824e+02, 0.00000000e+00, 3.47058824e+00, 2.41176471e+00,\n",
       "        6.55294118e+01, 3.11764706e+00, 3.42411765e+02, 2.94117647e-01],\n",
       "       [4.70967742e+00, 3.19354839e+00, 2.44838710e+01, 3.38709677e+00,\n",
       "        1.54903226e+02, 3.93548387e+00, 2.74193548e+00, 6.22258065e+01,\n",
       "        1.05806452e+01, 2.82096774e+02, 2.87096774e+00, 1.51612903e+00,\n",
       "        5.56451613e+01, 2.90322581e+00, 5.82580645e+02, 3.54838710e-01,\n",
       "        3.09677419e+00, 2.06451613e+00, 3.77741935e+01, 5.19354839e+00,\n",
       "        3.20258065e+02, 3.22580645e-02, 1.87096774e+00, 1.29032258e+00,\n",
       "        4.44516129e+01, 3.25806452e+00, 4.07967742e+02, 2.90322581e-01]])"
      ]
     },
     "execution_count": 28,
     "metadata": {},
     "output_type": "execute_result"
    }
   ],
   "source": [
    "model_code.cluster_centers_*X_code_std + X_code_mean"
   ]
  },
  {
   "cell_type": "code",
   "execution_count": 29,
   "metadata": {},
   "outputs": [],
   "source": [
    "model_game_code = train_model(np.concatenate((X_code,X_game),axis=1),NUM_CLUSTERS,max_iter=1000)"
   ]
  },
  {
   "cell_type": "code",
   "execution_count": 30,
   "metadata": {
    "collapsed": true
   },
   "outputs": [],
   "source": [
    "lbls = [(i+1,x) for i,x in enumerate(model_game_code.labels_)]"
   ]
  },
  {
   "cell_type": "code",
   "execution_count": 31,
   "metadata": {},
   "outputs": [
    {
     "data": {
      "text/plain": [
       "array([2, 0, 2, 2, 2, 2, 2, 2, 0, 2, 2, 2, 2, 2, 1, 0, 2, 2, 2, 2, 0, 2,\n",
       "       2, 2, 1, 1, 0, 2, 0, 0, 0, 0, 0, 0, 0, 0, 0, 0, 0, 0, 0, 0, 0, 0,\n",
       "       0, 0, 0, 0, 0, 0, 0, 0, 0, 0], dtype=int32)"
      ]
     },
     "execution_count": 31,
     "metadata": {},
     "output_type": "execute_result"
    }
   ],
   "source": [
    "model_game_code.labels_"
   ]
  },
  {
   "cell_type": "code",
   "execution_count": null,
   "metadata": {
    "collapsed": true
   },
   "outputs": [],
   "source": []
  }
 ],
 "metadata": {
  "kernelspec": {
   "display_name": "Python 3",
   "language": "python",
   "name": "python3"
  },
  "language_info": {
   "codemirror_mode": {
    "name": "ipython",
    "version": 3
   },
   "file_extension": ".py",
   "mimetype": "text/x-python",
   "name": "python",
   "nbconvert_exporter": "python",
   "pygments_lexer": "ipython3",
   "version": "3.6.3"
  }
 },
 "nbformat": 4,
 "nbformat_minor": 2
}
