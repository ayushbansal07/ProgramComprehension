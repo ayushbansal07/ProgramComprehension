{
 "cells": [
  {
   "cell_type": "code",
   "execution_count": 1,
   "metadata": {
    "collapsed": true
   },
   "outputs": [],
   "source": [
    "import pandas as pd\n",
    "import numpy as np\n",
    "import os"
   ]
  },
  {
   "cell_type": "code",
   "execution_count": 9,
   "metadata": {
    "collapsed": true
   },
   "outputs": [],
   "source": [
    "BASE_DIR = \"fixationpoints/\"\n",
    "OUT_DIR = \"output/\"\n",
    "MAPPINGS_FILE_PREFIX = \"mappings_\"\n",
    "code = \"5\""
   ]
  },
  {
   "cell_type": "code",
   "execution_count": 11,
   "metadata": {},
   "outputs": [
    {
     "data": {
      "text/plain": [
       "{1: 'statement',\n",
       " 2: 'statement',\n",
       " 3: 'statement',\n",
       " 4: 'statement',\n",
       " 5: 'statement',\n",
       " 6: 'statement',\n",
       " 7: 'statement',\n",
       " 8: 'loop-dec',\n",
       " 9: 'loop',\n",
       " 10: 'loop-if',\n",
       " 11: 'loop',\n",
       " 12: 'loop',\n",
       " 13: 'loop',\n",
       " 14: 'loop',\n",
       " 15: 'if',\n",
       " 16: 'if',\n",
       " 17: 'if',\n",
       " 18: 'if',\n",
       " 19: 'statement',\n",
       " 20: 'statenemt'}"
      ]
     },
     "execution_count": 11,
     "metadata": {},
     "output_type": "execute_result"
    }
   ],
   "source": [
    "mappings = {}\n",
    "with open(MAPPINGS_FILE_PREFIX+code+\".txt\") as f:\n",
    "    i = 1\n",
    "    for line in f:\n",
    "        if(line[-1]=='\\n'):\n",
    "            line = line[:-1]\n",
    "        mappings[i] = line\n",
    "        i += 1\n",
    "mappings"
   ]
  },
  {
   "cell_type": "code",
   "execution_count": 12,
   "metadata": {
    "collapsed": true
   },
   "outputs": [],
   "source": [
    "if not os.path.exists(os.path.join(BASE_DIR,OUT_DIR)):\n",
    "    os.mkdir(os.path.join(BASE_DIR,OUT_DIR))   \n",
    "if not os.path.exists(os.path.join(BASE_DIR,OUT_DIR,code)):\n",
    "    os.mkdir(os.path.join(BASE_DIR,OUT_DIR,code))"
   ]
  },
  {
   "cell_type": "code",
   "execution_count": 17,
   "metadata": {
    "collapsed": true
   },
   "outputs": [],
   "source": [
    "def read_data(file):\n",
    "    data = np.array(pd.read_csv(file))\n",
    "    proc = []\n",
    "    for row in data:\n",
    "        if row[1] != 0:\n",
    "            proc.append([row[1],row[3],row[6],row[7],mappings[row[1]]])\n",
    "    return np.array(proc)    \n",
    "\n",
    "def get_lines_array(data):\n",
    "    ans = []\n",
    "    curr_line = data[0][0]\n",
    "    ln = data.shape[0]\n",
    "    ans.append(data[0])\n",
    "    for i in range(1,ln):\n",
    "        if curr_line != data[i][0]:\n",
    "            ans.append(data[i])\n",
    "            curr_line = data[i][0]\n",
    "\n",
    "    return ans"
   ]
  },
  {
   "cell_type": "code",
   "execution_count": 29,
   "metadata": {},
   "outputs": [
    {
     "name": "stdout",
     "output_type": "stream",
     "text": [
      "final_matrix_newfix_nikhil5.csv\n",
      "final_matrix_newfix_koushik5.csv\n",
      "final_matrix_newfix_harshit5.csv\n",
      "final_matrix_newfix_shashi5.csv\n",
      "final_matrix_newfix_farazul5.csv\n",
      "final_matrix_newfix_meet5.csv\n",
      "final_matrix_newfix_anshul5.csv\n",
      "final_matrix_newfix_archit5.csv\n"
     ]
    }
   ],
   "source": [
    "for file in os.listdir(os.path.join(BASE_DIR,code)):\n",
    "    print(file)\n",
    "    data = read_data(os.path.join(BASE_DIR,code,file))\n",
    "    lines_array = get_lines_array(data)\n",
    "    df = pd.DataFrame (lines_array)\n",
    "    filepath = os.path.join(BASE_DIR,OUT_DIR,code,file[:-3]+\"xlsx\")\n",
    "    header = [\"Line No.\", \"Token No.\", \"timestamp_start\", \"timestamp_end\",\"time_duration\"]\n",
    "    df.to_excel(filepath, index=False,header=header)"
   ]
  },
  {
   "cell_type": "code",
   "execution_count": null,
   "metadata": {
    "collapsed": true
   },
   "outputs": [],
   "source": []
  }
 ],
 "metadata": {
  "kernelspec": {
   "display_name": "Python 3",
   "language": "python",
   "name": "python3"
  },
  "language_info": {
   "codemirror_mode": {
    "name": "ipython",
    "version": 3
   },
   "file_extension": ".py",
   "mimetype": "text/x-python",
   "name": "python",
   "nbconvert_exporter": "python",
   "pygments_lexer": "ipython3",
   "version": "3.6.7"
  }
 },
 "nbformat": 4,
 "nbformat_minor": 2
}
