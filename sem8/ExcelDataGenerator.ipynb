{
 "cells": [
  {
   "cell_type": "code",
   "execution_count": 1,
   "metadata": {
    "collapsed": true
   },
   "outputs": [],
   "source": [
    "import numpy as np\n",
    "import pandas as pd\n",
    "import os\n",
    "import pickle\n",
    "import xlsxwriter\n",
    "from os.path import join as PT"
   ]
  },
  {
   "cell_type": "code",
   "execution_count": 24,
   "metadata": {
    "collapsed": true
   },
   "outputs": [],
   "source": [
    "CODE = \"24\"\n",
    "TREE_BASE_DIR = \"Tree_Structure/\"\n",
    "SEGMENTS_BASE_DIR = \"output_fixation/\"+CODE+\"/\"+\"freq_segment/data/\"\n",
    "THRESHOLD = 0.05"
   ]
  },
  {
   "cell_type": "code",
   "execution_count": 25,
   "metadata": {},
   "outputs": [],
   "source": [
    "if not os.path.exists(os.path.join(TREE_BASE_DIR,CODE)):\n",
    "    os.mkdir(os.path.join(TREE_BASE_DIR,CODE))"
   ]
  },
  {
   "cell_type": "code",
   "execution_count": 26,
   "metadata": {
    "collapsed": true
   },
   "outputs": [],
   "source": [
    "class Node:\n",
    "    def __init__(self,name=None,node_num=0):\n",
    "        self.node_num = node_num\n",
    "        self.name = name\n",
    "        self.children = []\n",
    "        self.lines = []\n",
    "        \n",
    "    def insert(self,child):\n",
    "        self.children.append(child)\n",
    "    \n",
    "    def traverse(self):\n",
    "        print(self)\n",
    "        for child in self.children:\n",
    "            child.traverse()\n",
    "    \n",
    "    def __str__(self):\n",
    "        return \"[\"+str(self.node_num)+\" : \"+self.name+\" : \"+str(self.lines)\\\n",
    "    +\" : \"+str([x.node_num for x in self.children])+\"]\""
   ]
  },
  {
   "cell_type": "code",
   "execution_count": 27,
   "metadata": {
    "collapsed": true
   },
   "outputs": [],
   "source": [
    "def read_and_create_tree(file):\n",
    "    with open(file) as f:\n",
    "        nodes = []\n",
    "        for line in f:\n",
    "            if line[-1] == '\\n':\n",
    "                line = line[:-1]\n",
    "            statements = line.split(\" \")\n",
    "            if statements[0] == \"CREATE\":\n",
    "                node = Node(statements[1],len(nodes))\n",
    "                num_lines = int(statements[2])\n",
    "                for i in range(num_lines):\n",
    "                    node.lines.append(int(statements[i+3]))\n",
    "                nodes.append(node)\n",
    "            elif statements[0] == \"INSERT\":\n",
    "                parent = int(statements[1])\n",
    "                child = int(statements[2])\n",
    "                nodes[parent].insert(nodes[child])\n",
    "            else:\n",
    "                print(\"Error: Invalid command!!\")\n",
    "                break\n",
    "        return nodes[0]"
   ]
  },
  {
   "cell_type": "code",
   "execution_count": 28,
   "metadata": {
    "collapsed": true
   },
   "outputs": [],
   "source": [
    "def get_line_to_node_mapping(root,mappings):\n",
    "    for line in root.lines:\n",
    "        if line in mappings:\n",
    "            print(\"Error : Line \"+str(line)+\" mapped twice\")\n",
    "            return\n",
    "        mappings[line] = root\n",
    "    for child in root.children:\n",
    "        get_line_to_node_mapping(child,mappings)\n",
    "    return\n",
    "\n",
    "def init_node_counts(root,counts):\n",
    "    counts[root] = 0\n",
    "    for child in root.children:\n",
    "        init_node_counts(child,counts)\n",
    "        \n",
    "def get_nodes(root,all_nodes):\n",
    "    all_nodes[root.node_num] = root\n",
    "    for child in root.children:\n",
    "        get_nodes(child,all_nodes)\n",
    "        \n",
    "def get_major_components(data):\n",
    "    major = []\n",
    "    data = np.array(data)\n",
    "    total = np.sum(data[:,1])\n",
    "    for row in data:\n",
    "        if row[1]/total >= THRESHOLD:\n",
    "            major.append(row[0])\n",
    "    return major\n",
    "\n",
    "def update_node_counts(root,node_counts,major_lines,aggregate='min'):\n",
    "    for child in root.children:\n",
    "        update_node_counts(child,node_counts,major_lines)\n",
    "    to_add = False\n",
    "    for line in root.lines:\n",
    "        if line in major_lines:\n",
    "            to_add = True\n",
    "            break\n",
    "    if to_add:\n",
    "        node_counts[root] = node_counts[root] + 1\n",
    "    if len(root.lines) == 0:\n",
    "        cts_child = []\n",
    "        for child in root.children:\n",
    "            cts_child.append(node_counts[child])\n",
    "        cts_child = np.array(cts_child)\n",
    "        if aggregate == 'min':\n",
    "            func = np.min\n",
    "        elif aggregate == 'max':\n",
    "            func = np.max\n",
    "        elif aggregate == 'sum':\n",
    "            func = np.sum\n",
    "        else:\n",
    "            print(\"Error : Invalid aggregate!!\")\n",
    "            return\n",
    "        node_counts[root] = func(cts_child)"
   ]
  },
  {
   "cell_type": "code",
   "execution_count": 29,
   "metadata": {},
   "outputs": [
    {
     "data": {
      "text/plain": [
       "{0: <__main__.Node at 0x7faf4c2d5630>,\n",
       " 1: <__main__.Node at 0x7faf4c2b83c8>,\n",
       " 2: <__main__.Node at 0x7faf4c2d5780>,\n",
       " 3: <__main__.Node at 0x7faf4c2d5470>,\n",
       " 4: <__main__.Node at 0x7faf4c2d56a0>,\n",
       " 5: <__main__.Node at 0x7faf4c2d5a20>,\n",
       " 6: <__main__.Node at 0x7faf4c2d5860>,\n",
       " 7: <__main__.Node at 0x7faf4c2b6f98>,\n",
       " 8: <__main__.Node at 0x7faf4c2b6dd8>}"
      ]
     },
     "execution_count": 29,
     "metadata": {},
     "output_type": "execute_result"
    }
   ],
   "source": [
    "root = read_and_create_tree(os.path.join(TREE_BASE_DIR,CODE,CODE+\".tree\"))\n",
    "all_nodes = {}\n",
    "get_nodes(root,all_nodes)\n",
    "all_nodes"
   ]
  },
  {
   "cell_type": "code",
   "execution_count": 30,
   "metadata": {},
   "outputs": [
    {
     "name": "stdout",
     "output_type": "stream",
     "text": [
      "[0 : root : [] : [1, 2, 3]]\n",
      "[1 : statement : [1, 2] : []]\n",
      "[2 : func-binary_to_gray : [] : [4, 5, 6, 7]]\n",
      "[4 : if : [5, 6] : []]\n",
      "[5 : statement : [7, 8] : []]\n",
      "[6 : if : [9, 10] : []]\n",
      "[7 : statement : [11, 12] : []]\n",
      "[3 : func-main : [] : [8]]\n",
      "[8 : statement : [14, 15, 16, 17, 18] : []]\n"
     ]
    }
   ],
   "source": [
    "root.traverse()"
   ]
  },
  {
   "cell_type": "code",
   "execution_count": 31,
   "metadata": {},
   "outputs": [
    {
     "ename": "FileNotFoundError",
     "evalue": "[Errno 2] No such file or directory: 'Tree_Structure/24/24_imp_nodes.txt'",
     "output_type": "error",
     "traceback": [
      "\u001b[0;31m---------------------------------------------------------------------------\u001b[0m",
      "\u001b[0;31mFileNotFoundError\u001b[0m                         Traceback (most recent call last)",
      "\u001b[0;32m<ipython-input-31-2540205bab05>\u001b[0m in \u001b[0;36m<module>\u001b[0;34m()\u001b[0m\n\u001b[1;32m      9\u001b[0m                 \u001b[0mimp_nodes\u001b[0m\u001b[0;34m.\u001b[0m\u001b[0mappend\u001b[0m\u001b[0;34m(\u001b[0m\u001b[0mint\u001b[0m\u001b[0;34m(\u001b[0m\u001b[0mel\u001b[0m\u001b[0;34m)\u001b[0m\u001b[0;34m)\u001b[0m\u001b[0;34m\u001b[0m\u001b[0;34m\u001b[0m\u001b[0m\n\u001b[1;32m     10\u001b[0m     \u001b[0;32mreturn\u001b[0m \u001b[0mimp_nodes\u001b[0m\u001b[0;34m\u001b[0m\u001b[0;34m\u001b[0m\u001b[0m\n\u001b[0;32m---> 11\u001b[0;31m \u001b[0mIMP_NODES\u001b[0m \u001b[0;34m=\u001b[0m \u001b[0mget_imp_nodes\u001b[0m\u001b[0;34m(\u001b[0m\u001b[0mos\u001b[0m\u001b[0;34m.\u001b[0m\u001b[0mpath\u001b[0m\u001b[0;34m.\u001b[0m\u001b[0mjoin\u001b[0m\u001b[0;34m(\u001b[0m\u001b[0mTREE_BASE_DIR\u001b[0m\u001b[0;34m,\u001b[0m \u001b[0mCODE\u001b[0m\u001b[0;34m,\u001b[0m \u001b[0mCODE\u001b[0m \u001b[0;34m+\u001b[0m \u001b[0;34m\"_imp_nodes.txt\"\u001b[0m\u001b[0;34m)\u001b[0m\u001b[0;34m)\u001b[0m\u001b[0;34m\u001b[0m\u001b[0;34m\u001b[0m\u001b[0m\n\u001b[0m\u001b[1;32m     12\u001b[0m \u001b[0mprint\u001b[0m\u001b[0;34m(\u001b[0m\u001b[0mIMP_NODES\u001b[0m\u001b[0;34m)\u001b[0m\u001b[0;34m\u001b[0m\u001b[0;34m\u001b[0m\u001b[0m\n",
      "\u001b[0;32m<ipython-input-31-2540205bab05>\u001b[0m in \u001b[0;36mget_imp_nodes\u001b[0;34m(file)\u001b[0m\n\u001b[1;32m      1\u001b[0m \u001b[0;32mdef\u001b[0m \u001b[0mget_imp_nodes\u001b[0m\u001b[0;34m(\u001b[0m\u001b[0mfile\u001b[0m\u001b[0;34m)\u001b[0m\u001b[0;34m:\u001b[0m\u001b[0;34m\u001b[0m\u001b[0;34m\u001b[0m\u001b[0m\n\u001b[1;32m      2\u001b[0m     \u001b[0mimp_nodes\u001b[0m \u001b[0;34m=\u001b[0m \u001b[0;34m[\u001b[0m\u001b[0;34m]\u001b[0m\u001b[0;34m\u001b[0m\u001b[0;34m\u001b[0m\u001b[0m\n\u001b[0;32m----> 3\u001b[0;31m     \u001b[0;32mwith\u001b[0m \u001b[0mopen\u001b[0m\u001b[0;34m(\u001b[0m\u001b[0mfile\u001b[0m\u001b[0;34m)\u001b[0m \u001b[0;32mas\u001b[0m \u001b[0mf\u001b[0m\u001b[0;34m:\u001b[0m\u001b[0;34m\u001b[0m\u001b[0;34m\u001b[0m\u001b[0m\n\u001b[0m\u001b[1;32m      4\u001b[0m         \u001b[0;32mfor\u001b[0m \u001b[0mline\u001b[0m \u001b[0;32min\u001b[0m \u001b[0mf\u001b[0m\u001b[0;34m:\u001b[0m\u001b[0;34m\u001b[0m\u001b[0;34m\u001b[0m\u001b[0m\n\u001b[1;32m      5\u001b[0m             \u001b[0;32mif\u001b[0m \u001b[0mline\u001b[0m\u001b[0;34m[\u001b[0m\u001b[0;34m-\u001b[0m\u001b[0;36m1\u001b[0m\u001b[0;34m]\u001b[0m \u001b[0;34m==\u001b[0m \u001b[0;34m'\\n'\u001b[0m\u001b[0;34m:\u001b[0m\u001b[0;34m\u001b[0m\u001b[0;34m\u001b[0m\u001b[0m\n",
      "\u001b[0;31mFileNotFoundError\u001b[0m: [Errno 2] No such file or directory: 'Tree_Structure/24/24_imp_nodes.txt'"
     ]
    }
   ],
   "source": [
    "def get_imp_nodes(file):\n",
    "    imp_nodes = []\n",
    "    with open(file) as f:\n",
    "        for line in f:\n",
    "            if line[-1] == '\\n':\n",
    "                line = line[:-1]\n",
    "            temp = line.split(\" \")\n",
    "            for el in temp:\n",
    "                imp_nodes.append(int(el))\n",
    "    return imp_nodes \n",
    "IMP_NODES = get_imp_nodes(os.path.join(TREE_BASE_DIR, CODE, CODE + \"_imp_nodes.txt\"))\n",
    "print(IMP_NODES)"
   ]
  },
  {
   "cell_type": "code",
   "execution_count": null,
   "metadata": {
    "collapsed": true
   },
   "outputs": [],
   "source": []
  },
  {
   "cell_type": "code",
   "execution_count": 23,
   "metadata": {},
   "outputs": [
    {
     "name": "stdout",
     "output_type": "stream",
     "text": [
      "Subject -  anshul\n",
      "[5, 6, 7, 8]\n",
      "[8, 9, 10, 11, 14, 16]\n",
      "[6, 7, 8, 9, 10, 15, 16]\n",
      "[7, 8, 10, 12, 13, 16, 17, 18]\n",
      "[7, 8, 9, 10, 13]\n",
      "[2, 3, 4, 6, 7, 13, 15, 16, 17, 19]\n",
      "Subject -  harshit\n",
      "[1, 4, 12, 13, 14]\n",
      "[6, 7, 8, 9, 10]\n",
      "Subject -  koushik\n",
      "[]\n",
      "[8, 9, 11, 14, 16, 17, 18]\n",
      "[8]\n",
      "Subject -  shashi\n",
      "[1, 2]\n",
      "[5, 6, 7, 9, 10]\n",
      "[6, 7, 16, 17, 18]\n",
      "[7, 8, 9, 10, 11, 12]\n",
      "[10, 16]\n",
      "[7, 8]\n",
      "Subject -  archit\n",
      "[5, 6, 7, 9, 10, 11, 12]\n",
      "[6, 7, 8, 10]\n",
      "[8, 10, 11, 12, 15, 16, 17]\n",
      "[6, 7, 8, 10, 13]\n",
      "[8, 10, 16]\n",
      "Subject -  farazul\n",
      "[4, 5, 6, 7, 8, 10, 11]\n",
      "[4, 5, 6, 7, 8, 14, 16]\n",
      "[6, 8, 9, 10, 11, 12, 13]\n",
      "[3, 6, 7]\n",
      "[6, 7, 8, 9, 12, 13, 14, 16]\n",
      "[7, 9, 13, 16, 17]\n",
      "Subject -  meet\n",
      "[1, 3, 6, 9, 11]\n",
      "[3, 5, 6, 7]\n",
      "[4, 9, 11, 15]\n",
      "[16, 17]\n",
      "Subject -  nikhil\n",
      "[1, 2]\n",
      "[5, 6, 7, 8, 9, 10]\n",
      "[12, 13, 16, 17, 18, 19]\n",
      "[5, 6, 7, 8, 9, 10, 12]\n",
      "[6, 10, 11, 12, 17]\n",
      "[11]\n"
     ]
    },
    {
     "name": "stderr",
     "output_type": "stream",
     "text": [
      "/home/ayush/anaconda3/lib/python3.6/site-packages/ipykernel_launcher.py:26: RuntimeWarning: invalid value encountered in long_scalars\n"
     ]
    }
   ],
   "source": [
    "workbook = xlsxwriter.Workbook(os.path.join(TREE_BASE_DIR,CODE,CODE+\"_node_data.xlsx\"))\n",
    "worksheet = workbook.add_worksheet()\n",
    "cell_format = workbook.add_format({'align': 'center','valign' : 'centre'})\n",
    "worksheet.merge_range(\"A1:A2\",\"S.No.\",cell_format)\n",
    "worksheet.merge_range(\"B1:B2\",\"Subjects\",cell_format)\n",
    "worksheet.merge_range(\"C1:C2\",\"No. of \\nSegments\",cell_format)\n",
    "\n",
    "for j, node in enumerate(IMP_NODES):\n",
    "        cell_data = all_nodes[node].name\n",
    "        if len(all_nodes[node].lines) != 0:\n",
    "            cell_data += ' ('+ str(all_nodes[node].lines[0])+\"-\" +str(all_nodes[node].lines[-1])+')'\n",
    "        worksheet.merge_range(0,3+j*3,0,5+j*3,cell_data,cell_format)\n",
    "        worksheet.write_row(1,3+j*3,[\"min\",\"max\",\"sum\"])\n",
    "\n",
    "for i,file in enumerate(os.listdir(os.path.join(SEGMENTS_BASE_DIR))):\n",
    "    sub_name = file[20:-5]\n",
    "    print(\"Subject - \",sub_name)\n",
    "    xls = pd.read_excel(os.path.join(SEGMENTS_BASE_DIR,file),sheetname=None)\n",
    "\n",
    "    nc_min = {}\n",
    "    nc_max = {}\n",
    "    nc_sum = {}\n",
    "    init_node_counts(root,nc_min)\n",
    "    init_node_counts(root,nc_max)\n",
    "    init_node_counts(root,nc_sum)\n",
    "    num_segs = 0\n",
    "    for segment,data in xls.items():\n",
    "        major_lines = get_major_components(data)\n",
    "        print(major_lines)\n",
    "        update_node_counts(root,nc_min,major_lines,\"min\")\n",
    "        update_node_counts(root,nc_max,major_lines,\"max\")\n",
    "        update_node_counts(root,nc_sum,major_lines,\"sum\")\n",
    "        num_segs += 1\n",
    "    row_data = [str(i+1)+\".\",sub_name,num_segs]\n",
    "    worksheet.write_row(2+i,0,row_data)\n",
    "    for j, node in enumerate(IMP_NODES):\n",
    "        ptr = all_nodes[node]\n",
    "        vals = [nc_min[ptr],nc_max[ptr],nc_sum[ptr]]\n",
    "        vals = [str(x) for x in vals]\n",
    "        worksheet.write_row(2+i,3+j*3,vals)\n",
    "workbook.close()"
   ]
  },
  {
   "cell_type": "code",
   "execution_count": null,
   "metadata": {
    "collapsed": true
   },
   "outputs": [],
   "source": []
  }
 ],
 "metadata": {
  "kernelspec": {
   "display_name": "Python 3",
   "language": "python",
   "name": "python3"
  },
  "language_info": {
   "codemirror_mode": {
    "name": "ipython",
    "version": 3
   },
   "file_extension": ".py",
   "mimetype": "text/x-python",
   "name": "python",
   "nbconvert_exporter": "python",
   "pygments_lexer": "ipython3",
   "version": "3.6.7"
  }
 },
 "nbformat": 4,
 "nbformat_minor": 2
}
