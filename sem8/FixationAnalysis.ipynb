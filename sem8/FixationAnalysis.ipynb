{
 "cells": [
  {
   "cell_type": "code",
   "execution_count": 1,
   "metadata": {
    "collapsed": true
   },
   "outputs": [],
   "source": [
    "import numpy as np\n",
    "import pandas as pd\n",
    "import os\n",
    "import matplotlib.pyplot as plt\n",
    "from parse_excel import Parser\n",
    "from fuzzywuzzy import process"
   ]
  },
  {
   "cell_type": "code",
   "execution_count": 2,
   "metadata": {
    "collapsed": true
   },
   "outputs": [],
   "source": [
    "BASE_DIR = \"fixationcount_forframes\"\n",
    "CODE_TYPE = \"static\"\n",
    "OUT_DIR = \"otuput\"\n",
    "DATABASE_MATRIX = \"Database_matrix_modified_anx.xlsx\"\n",
    "PREFIX = \"fixationrate_aoi_clubfix_\"\n",
    "PREFIX_LEN = len(PREFIX)\n",
    "AOI_LINES = {\"5\":list(range(10,17)),\"24\":list(range(9,12)),\"32\":[3,8,16]+list(range(25,31))}"
   ]
  },
  {
   "cell_type": "code",
   "execution_count": 3,
   "metadata": {
    "collapsed": true
   },
   "outputs": [],
   "source": [
    "if not os.path.exists(os.path.join(BASE_DIR,OUT_DIR)):\n",
    "    os.mkdir(os.path.join(BASE_DIR,OUT_DIR))"
   ]
  },
  {
   "cell_type": "code",
   "execution_count": 4,
   "metadata": {
    "collapsed": true
   },
   "outputs": [],
   "source": [
    "parser = Parser()\n",
    "dbm_data = parser.read_all_data(DATABASE_MATRIX)\n",
    "names,expertise = parser.get_expertise_CG(dbm_data,42)"
   ]
  },
  {
   "cell_type": "code",
   "execution_count": 5,
   "metadata": {},
   "outputs": [
    {
     "data": {
      "text/plain": [
       "(8, 28, 18)"
      ]
     },
     "execution_count": 5,
     "metadata": {},
     "output_type": "execute_result"
    }
   ],
   "source": [
    "exp = np.array(expertise)\n",
    "np.sum(exp==0), np.sum(exp==1), np.sum(exp==2)"
   ]
  },
  {
   "cell_type": "code",
   "execution_count": 6,
   "metadata": {
    "collapsed": true
   },
   "outputs": [],
   "source": [
    "def get_fixation_stats(data,code_num):\n",
    "    fixation_count = 0\n",
    "    total_fixation_count = 0\n",
    "    aoi_lines = AOI_LINES[code_num]\n",
    "    for line in data:\n",
    "        if line[0] == 0:\n",
    "            continue\n",
    "        total_fixation_count += line[1]\n",
    "        if line[0] in aoi_lines:\n",
    "            fixation_count += line[1]\n",
    "            \n",
    "    return total_fixation_count, fixation_count"
   ]
  },
  {
   "cell_type": "code",
   "execution_count": 7,
   "metadata": {},
   "outputs": [
    {
     "name": "stdout",
     "output_type": "stream",
     "text": [
      "CODE -  24\n",
      "nikesh 349 147\n",
      "reddy 624 361\n",
      "arpit 185 71\n",
      "anuraag 554 265\n",
      "knikhil 676 324\n",
      "atrayee 242 40\n",
      "rajdeep 648 374\n",
      "niloy 173 121\n",
      "arka 477 125\n",
      "udhir 191 43\n",
      "=================================================================================\n",
      "CODE -  5\n",
      "meet 38 7\n",
      "harshit 20 9\n",
      "nikhil 199 52\n",
      "farazul 124 29\n",
      "rony 7 0\n",
      "anshul 164 60\n",
      "nitin 654 195\n",
      "koushik 18 3\n",
      "archit 392 118\n",
      "=================================================================================\n",
      "CODE -  32\n",
      "mayur 324 81\n",
      "achal 374 90\n",
      "diya 145 33\n",
      "anjali 158 41\n",
      "vamsi 237 41\n",
      "aditya 473 121\n",
      "arihant 590 192\n",
      "=================================================================================\n"
     ]
    }
   ],
   "source": [
    "for code in os.listdir(os.path.join(BASE_DIR,CODE_TYPE)):\n",
    "    if not os.path.exists(os.path.join(BASE_DIR,OUT_DIR,CODE_TYPE)):\n",
    "        os.mkdir(os.path.join(BASE_DIR,OUT_DIR,CODE_TYPE))\n",
    "    print(\"CODE - \",code)\n",
    "    subjects_list = []\n",
    "    total_fixation_counts = []\n",
    "    fixation_counts_aoi = []\n",
    "    fixation_ratios_aoi = []\n",
    "    expertises = []\n",
    "    for i, file in enumerate(os.listdir(os.path.join(BASE_DIR,CODE_TYPE,code))):\n",
    "        subjects_list.append(\"S\"+str(i+1))\n",
    "        if not os.path.exists(os.path.join(BASE_DIR,OUT_DIR,CODE_TYPE,code)):\n",
    "            os.mkdir(os.path.join(BASE_DIR,OUT_DIR,CODE_TYPE,code))\n",
    "        subject_name = file[PREFIX_LEN:-4-len(code)]\n",
    "        data = pd.read_csv(os.path.join(BASE_DIR,CODE_TYPE,code,file))\n",
    "        data = np.array(data)\n",
    "        data = data[:,[0,-2,-1]]\n",
    "        total_fixation_count, fixation_count = get_fixation_stats(data,code)\n",
    "        print(subject_name,total_fixation_count, fixation_count)\n",
    "        total_fixation_counts.append(total_fixation_count)\n",
    "        fixation_counts_aoi.append(fixation_count)\n",
    "        fixation_ratios_aoi.append(fixation_count/total_fixation_count)\n",
    "        name_match = process.extractOne(subject_name.lower(),names)\n",
    "        name_match = name_match[0]\n",
    "        for idx, name in enumerate(names):\n",
    "            if name.lower() == name_match.lower():\n",
    "                expertises.append(expertise[idx])\n",
    "                break\n",
    "        \n",
    "        #TODO: Plot fixation rate density\n",
    "    plt.figure(figsize=(15,10))\n",
    "    plt.bar(subjects_list,total_fixation_counts)\n",
    "    plt.savefig(os.path.join(BASE_DIR,OUT_DIR,CODE_TYPE,code,\"subjectVStotal_fixation.png\"))\n",
    "    plt.figure(figsize=(15,10))\n",
    "    plt.bar(subjects_list,fixation_counts_aoi)\n",
    "    plt.savefig(os.path.join(BASE_DIR,OUT_DIR,CODE_TYPE,code,\"subjectVSfixation_counts_aoi.png\"))\n",
    "    plt.figure(figsize=(15,10))\n",
    "    plt.bar(subjects_list,fixation_ratios_aoi)\n",
    "    plt.savefig(os.path.join(BASE_DIR,OUT_DIR,CODE_TYPE,code,\"subjectVSfixation_ratios_aoi.png\"))\n",
    "    plt.figure(figsize=(15,10))\n",
    "    plt.scatter(expertises,fixation_ratios_aoi)\n",
    "    plt.xticks([0,1,2],[\"expert\",\"intermediate\",\"novice\"])\n",
    "    plt.savefig(os.path.join(BASE_DIR,OUT_DIR,CODE_TYPE,code,\"expertiseVSfixation_rate.png\"))\n",
    "    \n",
    "    print(\"=================================================================================\")"
   ]
  },
  {
   "cell_type": "code",
   "execution_count": 16,
   "metadata": {
    "collapsed": true
   },
   "outputs": [],
   "source": [
    "\n",
    "for code in os.listdir(os.path.join(BASE_DIR,CODE_TYPE)):\n",
    "    if not os.path.exists(os.path.join(BASE_DIR,OUT_DIR,CODE_TYPE)):\n",
    "        os.mkdir(os.path.join(BASE_DIR,OUT_DIR,CODE_TYPE))\n",
    "    subjects_list = []\n",
    "    total_fixation_counts = []\n",
    "    fixation_counts_aoi = []\n",
    "    fixation_ratios_aoi = []\n",
    "    for i, file in enumerate(os.listdir(os.path.join(BASE_DIR,CODE_TYPE,code))):\n",
    "        subject_name = file[PREFIX_LEN:-4-len(code)]\n",
    "        best_match = process.extractOne(subject_name.lower(),names)\n",
    "        #print(subject_name.lower(),best_match)\n",
    "        #mt = get_close_matches(subject_name.lower(),names,1)\n",
    "        #if len(mt) != 0:\n",
    "        #    print(\"\\\"\"+subject_name.lower()+\"\\\" : \\\"\"+mt[0]+\"\\\", \")"
   ]
  },
  {
   "cell_type": "code",
   "execution_count": null,
   "metadata": {
    "collapsed": true
   },
   "outputs": [],
   "source": []
  },
  {
   "cell_type": "code",
   "execution_count": null,
   "metadata": {
    "collapsed": true
   },
   "outputs": [],
   "source": []
  },
  {
   "cell_type": "code",
   "execution_count": null,
   "metadata": {
    "collapsed": true
   },
   "outputs": [],
   "source": []
  },
  {
   "cell_type": "code",
   "execution_count": null,
   "metadata": {
    "collapsed": true
   },
   "outputs": [],
   "source": []
  },
  {
   "cell_type": "code",
   "execution_count": null,
   "metadata": {
    "collapsed": true
   },
   "outputs": [],
   "source": []
  }
 ],
 "metadata": {
  "kernelspec": {
   "display_name": "Python 3",
   "language": "python",
   "name": "python3"
  },
  "language_info": {
   "codemirror_mode": {
    "name": "ipython",
    "version": 3
   },
   "file_extension": ".py",
   "mimetype": "text/x-python",
   "name": "python",
   "nbconvert_exporter": "python",
   "pygments_lexer": "ipython3",
   "version": "3.6.3"
  }
 },
 "nbformat": 4,
 "nbformat_minor": 2
}
