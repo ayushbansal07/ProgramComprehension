{
 "cells": [
  {
   "cell_type": "code",
   "execution_count": 3,
   "metadata": {
    "collapsed": true
   },
   "outputs": [],
   "source": [
    "import pandas as pd\n",
    "import numpy as np\n",
    "import os\n",
    "import matplotlib.pyplot as plt"
   ]
  },
  {
   "cell_type": "code",
   "execution_count": 4,
   "metadata": {
    "collapsed": true
   },
   "outputs": [],
   "source": [
    "DATA_DIR = \"newdata/data_excel_finalmatrix_modified/\"\n",
    "FIRST_DER_DIR = \"filter_plots/first_derivative/\"\n",
    "COLORED_DIR = \"filter_plots/colored_plots/\"\n",
    "if not os.path.exists(COLORED_DIR):\n",
    "    os.mkdir(COLORED_DIR)"
   ]
  },
  {
   "cell_type": "code",
   "execution_count": 5,
   "metadata": {
    "collapsed": true
   },
   "outputs": [],
   "source": [
    "def readfile(filename):\n",
    "    return pd.read_excel(filename)"
   ]
  },
  {
   "cell_type": "code",
   "execution_count": 6,
   "metadata": {
    "collapsed": true
   },
   "outputs": [],
   "source": [
    "def filter_data(data):\n",
    "    filtered_data = np.array(data)\n",
    "    fil_data = []\n",
    "    for x in filtered_data:\n",
    "        if x[1] != 0:\n",
    "            fil_data.append((x[1],x[-1]))\n",
    "    filtered_data = np.array(fil_data)\n",
    "    return filtered_data"
   ]
  },
  {
   "cell_type": "code",
   "execution_count": 7,
   "metadata": {
    "collapsed": true
   },
   "outputs": [],
   "source": [
    "def conservative_smoothing(data,kernel_len):\n",
    "    pd = int(kernel_len/2)\n",
    "    ln = len(data)\n",
    "    newdata = []\n",
    "    for i in range(pd):\n",
    "        newdata.append(data[i])\n",
    "    for i in range(pd,ln - pd):\n",
    "        #val = np.sum(data[i-pd:i+pd+1,0]*kernel)\n",
    "        neighbors = data[i-pd:i,0]\n",
    "        neighbors = np.concatenate((neighbors,data[i+1:i+1+pd,0]))\n",
    "        if data[i,0] < np.min(neighbors):\n",
    "            newdata.append((np.min(neighbors),data[i,1]))\n",
    "        elif data[i,0] > np.max(neighbors):\n",
    "            newdata.append((np.max(neighbors),data[i,1]))\n",
    "        else:\n",
    "            newdata.append((data[i,0],data[i,1]))\n",
    "    for i in range(ln-pd,ln) :\n",
    "        newdata.append(data[i])\n",
    "    return np.array(newdata)"
   ]
  },
  {
   "cell_type": "code",
   "execution_count": 8,
   "metadata": {
    "collapsed": true
   },
   "outputs": [],
   "source": [
    "def apply_filter(data,kernel,kernel_len):\n",
    "    pd = int(kernel_len/2)\n",
    "    ln = len(data)\n",
    "    newdata = []\n",
    "    for i in range(pd):\n",
    "        newdata.append(data[i])\n",
    "    for i in range(pd,ln - pd):\n",
    "        val = np.sum(data[i-pd:i+pd+1,0]*kernel)\n",
    "        newdata.append((val,data[i,1]))\n",
    "    for i in range(ln-pd,ln) :\n",
    "        newdata.append(data[i])\n",
    "    return np.array(newdata)"
   ]
  },
  {
   "cell_type": "code",
   "execution_count": 9,
   "metadata": {
    "collapsed": true
   },
   "outputs": [],
   "source": [
    "def plot_data(data_blue,data_red,saveplace=None):\n",
    "    plt.figure(figsize=(20,12))\n",
    "    plt.scatter(data_blue[:,1],data_blue[:,0],c='b')\n",
    "    max_y = np.max(data_blue[:,0])\n",
    "    if data_red.shape[0] > 0:\n",
    "        plt.scatter(data_red[:,1],data_red[:,0],c='r')\n",
    "        max_y = max(max_y,np.max(data_red[:,0]))\n",
    "    plt.ylim(max(60,max_y+10),0)\n",
    "    if saveplace is not None:\n",
    "        plt.savefig(saveplace)\n",
    "        plt.clf()\n",
    "    else:\n",
    "        plt.show()"
   ]
  },
  {
   "cell_type": "code",
   "execution_count": 10,
   "metadata": {},
   "outputs": [],
   "source": [
    "THRESHOLD = 40\n",
    "gausian_kernel = np.array([5,15,60,15,5])/100"
   ]
  },
  {
   "cell_type": "code",
   "execution_count": 11,
   "metadata": {
    "collapsed": true
   },
   "outputs": [],
   "source": [
    "def seperate_data(data,first_der):\n",
    "    a = []\n",
    "    b = []\n",
    "    for i,x in enumerate(data):\n",
    "        if abs(first_der[i][0]) > THRESHOLD :\n",
    "            b.append((x[0],x[1]))\n",
    "        else:\n",
    "            a.append((x[0],x[1]))\n",
    "    return np.array(a), np.array(b)"
   ]
  },
  {
   "cell_type": "code",
   "execution_count": 12,
   "metadata": {},
   "outputs": [
    {
     "name": "stdout",
     "output_type": "stream",
     "text": [
      "Harshit_5.xlsx\n"
     ]
    },
    {
     "name": "stderr",
     "output_type": "stream",
     "text": [
      "/home/ayush/anaconda3/lib/python3.6/site-packages/matplotlib/pyplot.py:523: RuntimeWarning: More than 20 figures have been opened. Figures created through the pyplot interface (`matplotlib.pyplot.figure`) are retained until explicitly closed and may consume too much memory. (To control this warning, see the rcParam `figure.max_open_warning`).\n",
      "  max_open_warning, RuntimeWarning)\n"
     ]
    },
    {
     "name": "stdout",
     "output_type": "stream",
     "text": [
      "Niks_5.xlsx\n",
      "deepesh_31_fm.xlsx\n",
      "Arpit24.xlsx\n"
     ]
    }
   ],
   "source": [
    "for file in os.listdir(DATA_DIR):\n",
    "    try:\n",
    "        data = np.array(filter_data(readfile(DATA_DIR+file)))\n",
    "        data = conservative_smoothing(data,5)\n",
    "        data = apply_filter(data,gausian_kernel,5)\n",
    "        first_file_name = file[:-5]+\"_conservative_gaussian_firstder.xlsx\"\n",
    "        first_der = np.array(readfile(FIRST_DER_DIR+first_file_name))\n",
    "        data_blue,data_red = seperate_data(data,first_der)\n",
    "        plot_data(data_blue,data_red,COLORED_DIR+file[:-5]+\"_conservative_gaussian\"+\".png\")\n",
    "    except:\n",
    "        print(file)"
   ]
  },
  {
   "cell_type": "code",
   "execution_count": null,
   "metadata": {
    "collapsed": true
   },
   "outputs": [],
   "source": []
  }
 ],
 "metadata": {
  "kernelspec": {
   "display_name": "Python 3",
   "language": "python",
   "name": "python3"
  },
  "language_info": {
   "codemirror_mode": {
    "name": "ipython",
    "version": 3
   },
   "file_extension": ".py",
   "mimetype": "text/x-python",
   "name": "python",
   "nbconvert_exporter": "python",
   "pygments_lexer": "ipython3",
   "version": "3.6.3"
  }
 },
 "nbformat": 4,
 "nbformat_minor": 2
}
