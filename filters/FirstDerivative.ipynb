{
 "cells": [
  {
   "cell_type": "code",
   "execution_count": 26,
   "metadata": {
    "collapsed": true
   },
   "outputs": [],
   "source": [
    "TO_PLOT = False"
   ]
  },
  {
   "cell_type": "code",
   "execution_count": 2,
   "metadata": {
    "collapsed": true
   },
   "outputs": [],
   "source": [
    "import numpy as np\n",
    "import pandas as pd\n",
    "import os\n",
    "import matplotlib.pyplot as plt"
   ]
  },
  {
   "cell_type": "code",
   "execution_count": 3,
   "metadata": {
    "collapsed": true
   },
   "outputs": [],
   "source": [
    "BASE_DIR = \"filter_plots/first_derivative/\""
   ]
  },
  {
   "cell_type": "code",
   "execution_count": 4,
   "metadata": {
    "collapsed": true
   },
   "outputs": [],
   "source": [
    "def readfile(filename):\n",
    "    return pd.read_excel(BASE_DIR+filename)"
   ]
  },
  {
   "cell_type": "code",
   "execution_count": 23,
   "metadata": {
    "collapsed": true
   },
   "outputs": [],
   "source": [
    "def plot_data(data,saveplace=None):\n",
    "    plt.figure(figsize=(20,12))\n",
    "    plt.scatter(data[:,1],data[:,0])\n",
    "    y_min = np.min(data[:,0])\n",
    "    y_max = np.max(data[:,0])\n",
    "    plt.ylim(max(60,y_max+5),min(-60,y_min-5))\n",
    "    if saveplace is not None:\n",
    "        plt.savefig(saveplace)\n",
    "        plt.close()\n",
    "    else:\n",
    "        plt.show()"
   ]
  },
  {
   "cell_type": "code",
   "execution_count": 19,
   "metadata": {
    "collapsed": true
   },
   "outputs": [],
   "source": [
    "def apply_thresh(data,th,keep=True):\n",
    "    res = []\n",
    "    for x in data:\n",
    "        if abs(x[0])<th:\n",
    "            if keep:\n",
    "                res.append((0,x[1]))\n",
    "        else:\n",
    "            res.append((x[0],x[1]))\n",
    "    return np.array(res)"
   ]
  },
  {
   "cell_type": "code",
   "execution_count": null,
   "metadata": {
    "collapsed": true
   },
   "outputs": [],
   "source": [
    "PLOT_DIR = \"filter_plots/first_derivative_plots/\"\n",
    "if not os.path.exists(PLOT_DIR):\n",
    "    os.mkdir(PLOT_DIR)"
   ]
  },
  {
   "cell_type": "code",
   "execution_count": 8,
   "metadata": {},
   "outputs": [
    {
     "name": "stderr",
     "output_type": "stream",
     "text": [
      "/home/ayush/anaconda3/lib/python3.6/site-packages/matplotlib/pyplot.py:523: RuntimeWarning: More than 20 figures have been opened. Figures created through the pyplot interface (`matplotlib.pyplot.figure`) are retained until explicitly closed and may consume too much memory. (To control this warning, see the rcParam `figure.max_open_warning`).\n",
      "  max_open_warning, RuntimeWarning)\n"
     ]
    }
   ],
   "source": [
    "if TO_PLOT:\n",
    "    for file in os.listdir(BASE_DIR):\n",
    "        data = np.array(readfile(file))\n",
    "        plot_data(data,PLOT_DIR+file[:-5]+\".png\")"
   ]
  },
  {
   "cell_type": "code",
   "execution_count": 21,
   "metadata": {},
   "outputs": [],
   "source": [
    "THRESHOLDS = [18,20,30,40]"
   ]
  },
  {
   "cell_type": "code",
   "execution_count": 25,
   "metadata": {},
   "outputs": [],
   "source": [
    "if TO_PLOT:\n",
    "    for th in [60]:\n",
    "        for file in os.listdir(BASE_DIR):\n",
    "            data = np.array(readfile(file))\n",
    "            after_thresh = apply_thresh(data,th)\n",
    "            plot_data(after_thresh,PLOT_DIR+file[:-5]+\"_{}\".format(th)+\".png\")"
   ]
  },
  {
   "cell_type": "code",
   "execution_count": null,
   "metadata": {
    "collapsed": true
   },
   "outputs": [],
   "source": []
  }
 ],
 "metadata": {
  "kernelspec": {
   "display_name": "Python 3",
   "language": "python",
   "name": "python3"
  },
  "language_info": {
   "codemirror_mode": {
    "name": "ipython",
    "version": 3
   },
   "file_extension": ".py",
   "mimetype": "text/x-python",
   "name": "python",
   "nbconvert_exporter": "python",
   "pygments_lexer": "ipython3",
   "version": "3.6.3"
  }
 },
 "nbformat": 4,
 "nbformat_minor": 2
}
