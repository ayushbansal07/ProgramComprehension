{
 "cells": [
  {
   "cell_type": "code",
   "execution_count": 11,
   "metadata": {
    "collapsed": true
   },
   "outputs": [],
   "source": [
    "import os\n",
    "import shutil"
   ]
  },
  {
   "cell_type": "code",
   "execution_count": 2,
   "metadata": {
    "collapsed": true
   },
   "outputs": [],
   "source": [
    "BASE_DIR = \"newdata/data_excel_finalmatrix_modified/\""
   ]
  },
  {
   "cell_type": "code",
   "execution_count": 3,
   "metadata": {},
   "outputs": [
    {
     "name": "stdout",
     "output_type": "stream",
     "text": [
      "Anjali32.xlsx\n",
      "haque_34_fm.xlsx\n",
      "20_arka_fm.xlsx\n",
      "anuraag_1_fm.xlsx\n",
      "anshul_40_fm.xlsx\n",
      "vrajesh_20.xlsx\n",
      "sweta_40_fm.xlsx\n",
      "sweta_26_fm.xlsx\n",
      "fm_reddy_20.xlsx\n",
      "fm_vamsi_21.xlsx\n",
      "fm_sudhir_21.xlsx\n",
      "fm_haque_34.xlsx\n",
      "fm_reddy_39.xlsx\n",
      "fm_Arihant_23.xlsx\n",
      "anshul_2_fm.xlsx\n",
      "Harshit_5.xlsx\n",
      "fm_vamsi_32.xlsx\n",
      "shashi5.xlsx\n",
      "anuraag_28_fm.xlsx\n",
      "Achal_37_fm.xlsx\n",
      "fm_sumanth_7.xlsx\n",
      "fm_reddy_24.xlsx\n",
      "mayur_32.xlsx\n",
      "Meet5.xlsx\n",
      "fm_atrayee_16.xlsx\n",
      "chinmoy_16_fm.xlsx\n",
      "depeesh_35_fm.xlsx\n",
      "archit_34_fm.xlsx\n",
      "anjali_38_fm.xlsx\n",
      "fm_Arpit_33.xlsx\n",
      "mayur_21.xlsx\n",
      "fm_sweta_34.xlsx\n",
      "sumanth_21.xlsx\n",
      "nikhil_10.xlsx\n",
      "fm_Shashi_14.xlsx\n",
      "shweta32.xlsx\n",
      "diya_32.xlsx\n",
      "fm_sidhaant_24.xlsx\n",
      "Vrajesh_37_fm.xlsx\n",
      "fm_niks6.xlsx\n",
      "chinmoy_34_fm.xlsx\n",
      "fm_arka_22.xlsx\n",
      "fm_niks_8.xlsx\n",
      "Anshul5.xlsx\n",
      "arka24.xlsx\n",
      "haque_17.xlsx\n",
      "Anuraag_21_fm.xlsx\n",
      "fm_saumya_24.xlsx\n",
      "vreajesh32.xlsx\n",
      "arihant32.xlsx\n",
      "fm_arpit_29.xlsx\n",
      "sudhir_24.xlsx\n",
      "Niks_5.xlsx\n",
      "aditya_13_fm.xlsx\n",
      "fm_saumya_39.xlsx\n",
      "koushik_17_fm.xlsx\n",
      "fm_arpit_22.xlsx\n",
      "fm_archit_3.xlsx\n",
      "sankalp5.xlsx\n",
      "Rajedeep_21_fm.xlsx\n",
      "fm_meet_10.xlsx\n",
      "fm_sankalp_16.xlsx\n",
      "archit5.xlsx\n",
      "fm_niks_1.xlsx\n",
      "fm_rajdeep_24.xlsx\n",
      "fm_shashi_24.xlsx\n",
      "sudhansu_8_fm.xlsx\n",
      "arka_16_fm.xlsx\n",
      "vishal_7_fm.xlsx\n",
      "fm_vrajesh_9.xlsx\n",
      "fm_rony_5.xlsx\n",
      "vrajesh_1_fm.xlsx\n",
      "anjali_30_fm.xlsx\n",
      "rajdeep_7_fm.xlsx\n",
      "fm_haque_32.xlsx\n",
      "nikesh_37.xlsx\n",
      "vishal_28_fm.xlsx\n",
      "fm_vishal_20.xlsx\n",
      "sudhansu_32.xlsx\n",
      "fm_sumanth_8.xlsx\n",
      "deepesh_31_fm.xlsx\n",
      "anjali_22_fm.xlsx\n",
      "aditya_26_fm.xlsx\n",
      "chinmoy_40_fm.xlsx\n",
      "fm_reddy_11.xlsx\n",
      "nitin_5.xlsx\n",
      "depeesh_11_fm.xlsx\n",
      "fm_knikhil_24.xlsx\n",
      "3_arka_fm.xlsx\n",
      "fm_aditya_35.xlsx\n",
      "sashi_10_fm.xlsx\n",
      "fm_rajdeep_37.xlsx\n",
      "fm_meet_14.xlsx\n",
      "fm_chinmoy_2.xlsx\n",
      "koushik_4.xlsx\n",
      "fm_niks_17.xlsx\n",
      "koushik_20.xlsx\n",
      "sudhansu_38_fm.xlsx\n",
      "fm_achal_22.xlsx\n",
      "aditya32.xlsx\n",
      "fm_archit_8.xlsx\n",
      "fm_reddy_3.xlsx\n",
      "aditya_38_fm.xlsx\n",
      "Anuraag_24.xlsx\n",
      "17_anuraag_fm.xlsx\n",
      "deepesh_27_fm.xlsx\n",
      "atrayee_24.xlsx\n",
      "Arpit24.xlsx\n",
      "sudhansu_39_fm.xlsx\n",
      "fm_knikhil_33.xlsx\n",
      "fm_atrayee_37.xlsx\n",
      "fm_saumya_4.xlsx\n",
      "Arihant_10_fm.xlsx\n",
      "fm_farazal_14.xlsx\n",
      "sidhant_9_fm.xlsx\n",
      "fm_saumya_11.xlsx\n",
      "achal32.xlsx\n",
      "anjali_20_fm.xlsx\n",
      "Achal_34_fm.xlsx\n",
      "chinmoy5.xlsx\n",
      "fm_sumanth_32.xlsx\n",
      "nikesh_24.xlsx\n",
      "fm_deepesh_24.xlsx\n",
      "fm_meet_16.xlsx\n",
      "fm_Arpit_30.xlsx\n",
      "koushik5.xlsx\n",
      "Vishal_32.xlsx\n",
      "fm_saumya_14.xlsx\n",
      "Nikhil_26.xlsx\n",
      "niloy_24.xlsx\n",
      "sankalp_8_fm.xlsx\n",
      "fm_vamsi_8.xlsx\n",
      "niloy_37.xlsx\n",
      "sudhansu_12_fm.xlsx\n",
      "archit_37_fm.xlsx\n",
      "abhishek_32.xlsx\n",
      "achal_10_fm.xlsx\n"
     ]
    }
   ],
   "source": [
    "for file in os.listdir(BASE_DIR):\n",
    "    print(file)"
   ]
  },
  {
   "cell_type": "code",
   "execution_count": 4,
   "metadata": {
    "collapsed": true
   },
   "outputs": [],
   "source": [
    "selected = [\n",
    "    \"aditya32\",\n",
    "    \"fm_rajdeep_37\",\n",
    "    \"shweta32\",\n",
    "    \"Anjali32\",\n",
    "    \"sudhansu_32\",\n",
    "    \"achal32\",\n",
    "    \"Achal_37_fm\",\n",
    "    \"vreajesh32\",\n",
    "    \"Vrajesh_37_fm\",\n",
    "    \"Vishal_32\",\n",
    "    \"fm_haque_32\",\n",
    "    \"arihant32\",\n",
    "    \"archit_37_fm\",\n",
    "    \"abhishek_32\",\n",
    "    \"fm_vamsi_32\",\n",
    "    \"diya_32\",\n",
    "    \"fm_sumanth_32\",\n",
    "    \"mayur_32\",\n",
    "    \"fm_atrayee_37\",\n",
    "    \"nikesh_37\",\n",
    "    \"niloy_37\"\n",
    "]"
   ]
  },
  {
   "cell_type": "code",
   "execution_count": 9,
   "metadata": {
    "collapsed": true
   },
   "outputs": [],
   "source": [
    "SOURCE_DIR = \"filter_plots/5_0/\"\n",
    "DESTINATION_DIR = \"filter_plots/selected_plots/\""
   ]
  },
  {
   "cell_type": "code",
   "execution_count": 12,
   "metadata": {
    "collapsed": true
   },
   "outputs": [],
   "source": [
    "if not os.path.exists(DESTINATION_DIR):\n",
    "    os.mkdir(DESTINATION_DIR)\n",
    "\n",
    "all_plots =  os.listdir(SOURCE_DIR)\n",
    "for sub in selected:\n",
    "    for plot in all_plots:\n",
    "        if sub in plot:\n",
    "            shutil.copy(SOURCE_DIR + plot,DESTINATION_DIR + plot)"
   ]
  },
  {
   "cell_type": "code",
   "execution_count": null,
   "metadata": {
    "collapsed": true
   },
   "outputs": [],
   "source": []
  },
  {
   "cell_type": "markdown",
   "metadata": {},
   "source": [
    "# First Derivative"
   ]
  },
  {
   "cell_type": "code",
   "execution_count": 2,
   "metadata": {
    "collapsed": true
   },
   "outputs": [],
   "source": [
    "import numpy as np\n",
    "import pandas as pd\n",
    "import os\n",
    "import shutil"
   ]
  },
  {
   "cell_type": "code",
   "execution_count": 3,
   "metadata": {
    "collapsed": true
   },
   "outputs": [],
   "source": [
    "BASE_DIR = \"filter_plots/5_0/\"\n",
    "DEST_DIR = \"filter_plots/first_derivative/\"\n",
    "if not os.path.exists(DEST_DIR):\n",
    "    os.mkdir(DEST_DIR)"
   ]
  },
  {
   "cell_type": "code",
   "execution_count": null,
   "metadata": {
    "collapsed": true
   },
   "outputs": [],
   "source": [
    "for file in os.listdir(BASE_DIR):\n",
    "    if file[-5:] == \".xlsx\":\n",
    "        shutil.copy(BASE_DIR+file,DEST_DIR+file)"
   ]
  }
 ],
 "metadata": {
  "kernelspec": {
   "display_name": "Python 3",
   "language": "python",
   "name": "python3"
  },
  "language_info": {
   "codemirror_mode": {
    "name": "ipython",
    "version": 3
   },
   "file_extension": ".py",
   "mimetype": "text/x-python",
   "name": "python",
   "nbconvert_exporter": "python",
   "pygments_lexer": "ipython3",
   "version": "3.6.3"
  }
 },
 "nbformat": 4,
 "nbformat_minor": 2
}
