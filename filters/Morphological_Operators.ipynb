{
 "cells": [
  {
   "cell_type": "code",
   "execution_count": 1,
   "metadata": {
    "collapsed": true
   },
   "outputs": [],
   "source": [
    "import pandas as pd\n",
    "import numpy as np"
   ]
  },
  {
   "cell_type": "code",
   "execution_count": 2,
   "metadata": {
    "collapsed": true
   },
   "outputs": [],
   "source": [
    "from filters import Filters\n",
    "BASE_DIR = \"newdata/data_excel_finalmatrix_modified/\""
   ]
  },
  {
   "cell_type": "code",
   "execution_count": 3,
   "metadata": {
    "collapsed": true
   },
   "outputs": [],
   "source": [
    "ALL_FILTERS = Filters(BASE_DIR)"
   ]
  },
  {
   "cell_type": "code",
   "execution_count": 4,
   "metadata": {
    "collapsed": true
   },
   "outputs": [],
   "source": [
    "import os\n",
    "TARGET_DIR = \"code_32/morphological/\""
   ]
  },
  {
   "cell_type": "code",
   "execution_count": 5,
   "metadata": {
    "collapsed": true
   },
   "outputs": [],
   "source": [
    "if not os.path.exists(TARGET_DIR):\n",
    "    os.mkdir(TARGET_DIR)"
   ]
  },
  {
   "cell_type": "code",
   "execution_count": 6,
   "metadata": {
    "collapsed": true
   },
   "outputs": [],
   "source": [
    "for file in os.listdir(BASE_DIR):\n",
    "    if \"32\" in file:\n",
    "        data = ALL_FILTERS.read_and_preprocess_data(file)\n",
    "        data = ALL_FILTERS.conservative_smoothing(data,5)\n",
    "        data = ALL_FILTERS.apply_filter(data,ALL_FILTERS.GAUSSIAN_KERNEL,5)\n",
    "        ALL_FILTERS.plot_data(data,saveplace=TARGET_DIR+file[:-5]+\"_original.png\")\n",
    "        kernel = [0,0,5,0,0]\n",
    "        #eroded_data = ALL_FILTERS.erosion(data,kernel)\n",
    "        #ALL_FILTERS.plot_data(eroded_data)\n",
    "        #dialated_data = ALL_FILTERS.dialation(eroded_data,kernel)\n",
    "        #ALL_FILTERS.plot_data(dialated_data)\n",
    "        opening_data = ALL_FILTERS.opening(data,kernel)\n",
    "        ALL_FILTERS.plot_data(opening_data,TARGET_DIR+file[:-5]+\"_opening.png\")        "
   ]
  },
  {
   "cell_type": "code",
   "execution_count": null,
   "metadata": {
    "collapsed": true
   },
   "outputs": [],
   "source": []
  },
  {
   "cell_type": "code",
   "execution_count": null,
   "metadata": {
    "collapsed": true
   },
   "outputs": [],
   "source": []
  }
 ],
 "metadata": {
  "kernelspec": {
   "display_name": "Python 3",
   "language": "python",
   "name": "python3"
  },
  "language_info": {
   "codemirror_mode": {
    "name": "ipython",
    "version": 3
   },
   "file_extension": ".py",
   "mimetype": "text/x-python",
   "name": "python",
   "nbconvert_exporter": "python",
   "pygments_lexer": "ipython3",
   "version": "3.6.3"
  }
 },
 "nbformat": 4,
 "nbformat_minor": 2
}
