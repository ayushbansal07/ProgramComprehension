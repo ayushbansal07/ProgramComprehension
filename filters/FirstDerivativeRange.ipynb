{
 "cells": [
  {
   "cell_type": "code",
   "execution_count": 1,
   "metadata": {
    "collapsed": true
   },
   "outputs": [],
   "source": [
    "import pandas as pd\n",
    "import numpy as np"
   ]
  },
  {
   "cell_type": "code",
   "execution_count": 2,
   "metadata": {},
   "outputs": [],
   "source": [
    "from filters import Filters\n",
    "BASE_DIR = \"newdata/data_excel_finalmatrix_modified/\""
   ]
  },
  {
   "cell_type": "code",
   "execution_count": 3,
   "metadata": {
    "collapsed": true
   },
   "outputs": [],
   "source": [
    "ALL_FILTERS = Filters(BASE_DIR)"
   ]
  },
  {
   "cell_type": "code",
   "execution_count": 4,
   "metadata": {
    "collapsed": true
   },
   "outputs": [],
   "source": [
    "import os\n",
    "TARGET_DIR = \"code_32/\""
   ]
  },
  {
   "cell_type": "code",
   "execution_count": 5,
   "metadata": {},
   "outputs": [],
   "source": [
    "if not os.path.exists(TARGET_DIR):\n",
    "    os.mkdir(TARGET_DIR)\n",
    "if not os.path.exists(TARGET_DIR+\"original\"):\n",
    "    os.mkdir(TARGET_DIR+\"original\")\n",
    "if not os.path.exists(TARGET_DIR+\"first_der\"):\n",
    "    os.mkdir(TARGET_DIR+\"first_der\")\n",
    "if not os.path.exists(TARGET_DIR+\"colored_plots\"):\n",
    "    os.mkdir(TARGET_DIR+\"colored_plots\")"
   ]
  },
  {
   "cell_type": "code",
   "execution_count": 7,
   "metadata": {},
   "outputs": [
    {
     "name": "stderr",
     "output_type": "stream",
     "text": [
      "/home/ayush/anaconda3/lib/python3.6/site-packages/matplotlib/pyplot.py:523: RuntimeWarning: More than 20 figures have been opened. Figures created through the pyplot interface (`matplotlib.pyplot.figure`) are retained until explicitly closed and may consume too much memory. (To control this warning, see the rcParam `figure.max_open_warning`).\n",
      "  max_open_warning, RuntimeWarning)\n"
     ]
    }
   ],
   "source": [
    "for file in os.listdir(BASE_DIR):\n",
    "    if \"32\" in file:\n",
    "        data = ALL_FILTERS.read_and_preprocess_data(file)\n",
    "        num_lines = np.max(data[:,0])\n",
    "        data = ALL_FILTERS.conservative_smoothing(data,5)\n",
    "        data = ALL_FILTERS.apply_filter(data,ALL_FILTERS.GAUSSIAN_KERNEL,5)\n",
    "        #ALL_FILTERS.plot_data(data,TARGET_DIR+\"original/\"+file[:-5]+\".png\")\n",
    "        first_der = ALL_FILTERS.apply_filter(data,ALL_FILTERS.FIRST_DERIVATIVE,5)\n",
    "        #thresh_less = ALL_FILTERS.apply_range_thresh(first_der, int(num_lines*1./3.),int(num_lines*2./3.))\n",
    "        #thresh_more = ALL_FILTERS.apply_range_thresh(first_der, int(num_lines*2./3.),int(num_lines))\n",
    "        #ALL_FILTERS.plot_data(first_der,TARGET_DIR+\"first_der/\"+file[:-5]+\".png\",isDerivative=True)\n",
    "        #ALL_FILTERS.plot_data(thresh_less,TARGET_DIR+\"first_der/\"+file[:-5]+\"_less.png\",isDerivative=True)\n",
    "        #ALL_FILTERS.plot_data(thresh_more,TARGET_DIR+\"first_der/\"+file[:-5]+\"_more.png\",isDerivative=True)\n",
    "        data_blue_less, data_red_less = ALL_FILTERS.seperate_data_range(data, first_der, \\\n",
    "                                                    int(num_lines*1./3.),int(num_lines*2./3.))\n",
    "        data_blue_more, data_red_more = ALL_FILTERS.seperate_data_range(data, first_der, \\\n",
    "                                                    int(num_lines*2./3.),int(num_lines))\n",
    "        ALL_FILTERS.plot_colored_data(data_blue_less, data_red_less,TARGET_DIR+\\\n",
    "                                      \"colored_plots/\"+file[:-5]+\"_less.png\")\n",
    "        ALL_FILTERS.plot_colored_data(data_blue_more, data_red_more,TARGET_DIR+\\\n",
    "                                      \"colored_plots/\"+file[:-5]+\"_more.png\")\n",
    "        "
   ]
  },
  {
   "cell_type": "code",
   "execution_count": null,
   "metadata": {
    "collapsed": true
   },
   "outputs": [],
   "source": [
    "\n"
   ]
  }
 ],
 "metadata": {
  "kernelspec": {
   "display_name": "Python 3",
   "language": "python",
   "name": "python3"
  }
 },
 "nbformat": 4,
 "nbformat_minor": 2
}
