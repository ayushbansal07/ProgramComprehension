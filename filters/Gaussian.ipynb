{
 "cells": [
  {
   "cell_type": "code",
   "execution_count": null,
   "metadata": {
    "collapsed": true
   },
   "outputs": [],
   "source": [
    "import pandas as pd\n",
    "import numpy as np\n",
    "import os\n",
    "import matplotlib.pyplot as plt"
   ]
  },
  {
   "cell_type": "code",
   "execution_count": null,
   "metadata": {
    "collapsed": true
   },
   "outputs": [],
   "source": [
    "BASE_DIR = \"newdata/data_excel_finalmatrix_modified/\""
   ]
  },
  {
   "cell_type": "code",
   "execution_count": null,
   "metadata": {
    "collapsed": true
   },
   "outputs": [],
   "source": [
    "def readfile(filename):\n",
    "    return pd.read_excel(BASE_DIR + filename)"
   ]
  },
  {
   "cell_type": "code",
   "execution_count": null,
   "metadata": {
    "collapsed": true
   },
   "outputs": [],
   "source": [
    "def filter_data(data):\n",
    "    filtered_data = np.array(data)\n",
    "    fil_data = []\n",
    "    for x in filtered_data:\n",
    "        if x[1] != 0:\n",
    "            fil_data.append((x[1],x[-1]))\n",
    "    filtered_data = np.array(fil_data)\n",
    "    return filtered_data"
   ]
  },
  {
   "cell_type": "code",
   "execution_count": null,
   "metadata": {
    "collapsed": true
   },
   "outputs": [],
   "source": [
    "def plot_data(data,saveplace=None):\n",
    "    plt.figure(figsize=(20,12))\n",
    "    plt.scatter(data[:,1],data[:,0])\n",
    "    plt.ylim(60,0)\n",
    "    if saveplace is not None:\n",
    "        plt.savefig(saveplace)"
   ]
  },
  {
   "cell_type": "code",
   "execution_count": null,
   "metadata": {
    "collapsed": true
   },
   "outputs": [],
   "source": [
    "plot_data(filter_data(readfile(\"shashi5.xlsx\")))"
   ]
  },
  {
   "cell_type": "code",
   "execution_count": null,
   "metadata": {
    "collapsed": true
   },
   "outputs": [],
   "source": [
    "GAUSSIAN_KERNELS = {5 : [np.array([5,15,60,15,5])/100]}"
   ]
  },
  {
   "cell_type": "code",
   "execution_count": null,
   "metadata": {
    "collapsed": true
   },
   "outputs": [],
   "source": [
    "def apply_filter(data,kernel,kernel_len):\n",
    "    pd = int(kernel_len/2)\n",
    "    ln = len(data)\n",
    "    newdata = []\n",
    "    for i in range(pd):\n",
    "        newdata.append(data[i])\n",
    "    for i in range(pd,ln - pd):\n",
    "        val = np.sum(data[i-pd:i+pd+1,0]*kernel)\n",
    "        newdata.append((val,data[i,1]))\n",
    "    for i in range(ln-pd,ln) :\n",
    "        newdata.append(data[i])\n",
    "    return np.array(newdata)"
   ]
  },
  {
   "cell_type": "code",
   "execution_count": null,
   "metadata": {
    "collapsed": true
   },
   "outputs": [],
   "source": [
    "data = readfile(\"shashi5.xlsx\")"
   ]
  },
  {
   "cell_type": "code",
   "execution_count": null,
   "metadata": {
    "collapsed": true
   },
   "outputs": [],
   "source": [
    "data = filter_data(data)"
   ]
  },
  {
   "cell_type": "code",
   "execution_count": null,
   "metadata": {
    "collapsed": true
   },
   "outputs": [],
   "source": [
    "filtered_data = apply_filter(data,GAUSSIAN_KERNELS[5][0],5)"
   ]
  },
  {
   "cell_type": "code",
   "execution_count": null,
   "metadata": {
    "collapsed": true
   },
   "outputs": [],
   "source": [
    "plot_data(filtered_data)"
   ]
  },
  {
   "cell_type": "code",
   "execution_count": null,
   "metadata": {},
   "outputs": [],
   "source": [
    "if not os.path.exists(\"filter_plots\"):\n",
    "    os.mkdir(\"filter_plots\")\n",
    "for filter_len, filters in GAUSSIAN_KERNELS.items():\n",
    "    for i, fil in enumerate(filters):\n",
    "        foldername = \"filter_plots/{}_{}\".format(filter_len,i)\n",
    "        if not os.path.exists(foldername):\n",
    "            os.mkdir(foldername)\n",
    "        foldername += \"/\"\n",
    "        for file in os.listdir(BASE_DIR):\n",
    "            try:\n",
    "                data = readfile(file)\n",
    "                data = filter_data(data)\n",
    "                plot_data(data,foldername+\"/\"+file[:-5]+\"_original.png\")\n",
    "                gaussian_data = apply_filter(data,fil,filter_len)\n",
    "                plot_data(gaussian_data,foldername+\"/\"+file[:-5]+\"_gaussian.png\")\n",
    "            except :\n",
    "                print(file)"
   ]
  },
  {
   "cell_type": "code",
   "execution_count": null,
   "metadata": {
    "collapsed": true
   },
   "outputs": [],
   "source": []
  }
 ],
 "metadata": {
  "kernelspec": {
   "display_name": "Python 3",
   "language": "python",
   "name": "python3"
  },
  "language_info": {
   "codemirror_mode": {
    "name": "ipython",
    "version": 3
   },
   "file_extension": ".py",
   "mimetype": "text/x-python",
   "name": "python",
   "nbconvert_exporter": "python",
   "pygments_lexer": "ipython3",
   "version": "3.6.3"
  }
 },
 "nbformat": 4,
 "nbformat_minor": 2
}
